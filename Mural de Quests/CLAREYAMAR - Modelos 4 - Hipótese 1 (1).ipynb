{
 "cells": [
  {
   "cell_type": "markdown",
   "id": "31006c57",
   "metadata": {},
   "source": [
    "# <font color=darkred><center>CLAREYAMAR <br>\n",
    "### <font color=gold><center>Clara Lelis, Yasmin Shimizu, Gabriel Martins<br>\n",
    " <font color=darkred><center>*Inluminans Ignotus*☀️🌊\n",
    " \n",
    "<font color=black><center>Divisão responsável pela segurança das águas territoriais e regiões portuárias do reino de Lumi, iluminando a escuridão dos mares e as profundezas do oceano.\n",
    "    \n",
    "### <font color=blue><center> Quests 3\n",
    "<font color=black><center>Após realizar as missões dos murais da Taverna do Sol e da Praça da Fonte e deixar seus relatórios nas mãos da Dra. Diana Didatolov, a Divisão Clareyamar ganhou muito mais reconhecimento e prestígio no reino. Com as missões anteriores concluídas, a Diretora da Biblioteca Real revelou ao grupo mais um mural que contém quests de nível mais elevado , solicitando ajuda a eles. A fim de continuar ajudando o povo e conquistar a Legião da Alvorada, o grupo aceitou e se propôs, novamente, a resolver problemas de diversos cidadãos de Lumi. Além disso, há relatos de que as águas locais estão contaminadas, e sábios marinheiros afirmaram avistar um terrível dragão do mar na região. Conhecendo esses rumores, como divisão responsável pelos recursos hídricos, o grupo decidiu se preparar para estudar o que está acontecendo no Reino de Lumi.\n",
    "    \n",
    "##### <font color=darkred><center> Missão 1: As hipóteses reais\n",
    "<div class=\"alert alert-warning\">\n",
    "<center> \"Vossa Iluminação levantou a hipótese abaixo durante sua última reunião com a cúpula de Ciência, Tecnologia e Encantamentos do reinado. Sua tarefa é respondê-la. Para esta quest, utilize o dataset que pretende usar no seu projeto de conclusão do semestre desta disciplina e escolha o algoritmo de aprendizado de máquina que preferir.\n",
    "    \n",
    "<center>- Realizar normalização padrão dos atributos melhora a performance de modelos induzidos pelo algoritmo escolhido.\"\n",
    "</div>\n",
    "    \n",
    "#### <font color=darkred><center> Introdução da missão 1 - Modelos 4<br>\n",
    "<font color=black><center> Milu Iluminarius MLVI, o Rei do Reino de Lumi, teve um encontro com Vostrasirus Baba, o vidente mais famoso do reino, na ocasião, o vidente previu a chegada iminente de um terrível dragão à Lumi. O Rei ficou muito preocupado, mas também desconfiado de Vostrasirus, pois lendas contam que dragões haviam sido extintos há muitos séculos. Para testar Vostrasirus, o rei o fez algumas perguntas sobre previsões e seus assistentes registraram as respostas. No intuito de descobrir se as afirmações do guru estão corretas, o rei pediu ajuda no Mural de Quests da Biblioteca Real para que estudantes em previsões analizassem a situação.\n",
    "    \n",
    "<font color=black><center>Com isso, a hipótese que será testada nesse caderno é a de que \"Realizar normalização padrão dos atributos melhora a performance de modelos induzidos pelo algoritmo escolhido\". O teste será realizado comparando as performances dos modelos treinados com os dados originais e com os dados normalizados."
   ]
  },
  {
   "cell_type": "markdown",
   "id": "926c67ce",
   "metadata": {},
   "source": [
    "# <font color=gold>Não há normalidade em Lumi"
   ]
  },
  {
   "cell_type": "markdown",
   "id": "051cc9a6",
   "metadata": {},
   "source": [
    "Para realizar as devidas manipulações nos dados, foram utilizadas as bibliotecas `os`,`pandas` e `numpy`."
   ]
  },
  {
   "cell_type": "code",
   "execution_count": 249,
   "id": "fe76508b",
   "metadata": {},
   "outputs": [],
   "source": [
    "import os\n",
    "import pandas as pd\n",
    "import numpy as np"
   ]
  },
  {
   "cell_type": "markdown",
   "id": "ee0929a6",
   "metadata": {},
   "source": [
    "O dataset usado neste trabalho foi o *Water Quality*, obtido na plataforma *Kaggle*, ele contém informações de corpos d'água como pH, turbidez, condutividade, além de índices de contaminantes como sulfatos, carbonos orgânicos e trialometanos. O arquivo pode ser baixado no site do Kaggle e vem em formato *csv*."
   ]
  },
  {
   "cell_type": "code",
   "execution_count": 250,
   "id": "5c9a6774",
   "metadata": {},
   "outputs": [],
   "source": [
    "local=os.getcwd()\n",
    "\n",
    "df = pd.read_csv(local+'\\\\water_potability.csv')\n",
    "df = df.dropna()"
   ]
  },
  {
   "cell_type": "markdown",
   "id": "29c36a12",
   "metadata": {},
   "source": [
    "Para analisar a performance dos modelos, utilizou-se como métrica a Raiz do Erro Quadrático Médio (RMSE)."
   ]
  },
  {
   "cell_type": "code",
   "execution_count": 251,
   "id": "ed1f0f83",
   "metadata": {},
   "outputs": [],
   "source": [
    "from sklearn.metrics import mean_squared_error\n",
    "\n",
    "def calcula_RMSE(y_verdadeiro, y_previsto):\n",
    "    \"\"\"Recebe um conjunto de dados conhecidos e um conjunto de dados previstos, compara ambos calculando a raíz do erro quadrático médio e retorna o valor de RMSE obtido.\"\"\"\n",
    "\n",
    "    RMSE = mean_squared_error(y_verdadeiro, y_previsto, squared=False)\n",
    "\n",
    "    return RMSE"
   ]
  },
  {
   "cell_type": "markdown",
   "id": "fe21c171",
   "metadata": {},
   "source": [
    "Com o dataset definido, é necessário realizar uma divisão nos dados em dados de treino e dados de teste, o que é feito pela função **train_test_split** do `scikit.learn`. Definiu-se que 10% dos dados será de teste e 90% de treino."
   ]
  },
  {
   "cell_type": "code",
   "execution_count": 252,
   "id": "a0cecd3e",
   "metadata": {},
   "outputs": [],
   "source": [
    "from sklearn.model_selection import train_test_split\n",
    "\n",
    "TAMANHO_TESTE = 0.1\n",
    "SEMENTE_ALEATORIA = 2110024\n",
    "\n",
    "indices = df.index\n",
    "indices_treino, indices_teste = train_test_split(\n",
    "    indices, test_size=TAMANHO_TESTE, random_state=SEMENTE_ALEATORIA\n",
    ")\n",
    "\n",
    "df_treino = df.loc[indices_treino]\n",
    "df_teste = df.loc[indices_teste]"
   ]
  },
  {
   "cell_type": "code",
   "execution_count": 253,
   "id": "2750a16f",
   "metadata": {},
   "outputs": [
    {
     "data": {
      "text/html": [
       "<div>\n",
       "<style scoped>\n",
       "    .dataframe tbody tr th:only-of-type {\n",
       "        vertical-align: middle;\n",
       "    }\n",
       "\n",
       "    .dataframe tbody tr th {\n",
       "        vertical-align: top;\n",
       "    }\n",
       "\n",
       "    .dataframe thead th {\n",
       "        text-align: right;\n",
       "    }\n",
       "</style>\n",
       "<table border=\"1\" class=\"dataframe\">\n",
       "  <thead>\n",
       "    <tr style=\"text-align: right;\">\n",
       "      <th></th>\n",
       "      <th>ph</th>\n",
       "      <th>Hardness</th>\n",
       "      <th>Solids</th>\n",
       "      <th>Chloramines</th>\n",
       "      <th>Sulfate</th>\n",
       "      <th>Conductivity</th>\n",
       "      <th>Organic_carbon</th>\n",
       "      <th>Trihalomethanes</th>\n",
       "      <th>Turbidity</th>\n",
       "      <th>Potability</th>\n",
       "    </tr>\n",
       "  </thead>\n",
       "  <tbody>\n",
       "    <tr>\n",
       "      <th>52</th>\n",
       "      <td>6.652488</td>\n",
       "      <td>145.010172</td>\n",
       "      <td>19871.788448</td>\n",
       "      <td>4.961066</td>\n",
       "      <td>288.052192</td>\n",
       "      <td>545.974994</td>\n",
       "      <td>10.942024</td>\n",
       "      <td>71.727414</td>\n",
       "      <td>3.742090</td>\n",
       "      <td>0</td>\n",
       "    </tr>\n",
       "    <tr>\n",
       "      <th>1059</th>\n",
       "      <td>7.617149</td>\n",
       "      <td>196.606942</td>\n",
       "      <td>27080.268722</td>\n",
       "      <td>7.382755</td>\n",
       "      <td>345.179887</td>\n",
       "      <td>329.016646</td>\n",
       "      <td>8.547283</td>\n",
       "      <td>60.144702</td>\n",
       "      <td>2.391540</td>\n",
       "      <td>0</td>\n",
       "    </tr>\n",
       "    <tr>\n",
       "      <th>3209</th>\n",
       "      <td>4.857803</td>\n",
       "      <td>222.399990</td>\n",
       "      <td>15668.273618</td>\n",
       "      <td>7.900790</td>\n",
       "      <td>320.394529</td>\n",
       "      <td>417.804063</td>\n",
       "      <td>15.530563</td>\n",
       "      <td>84.228774</td>\n",
       "      <td>3.966571</td>\n",
       "      <td>1</td>\n",
       "    </tr>\n",
       "    <tr>\n",
       "      <th>2211</th>\n",
       "      <td>4.808040</td>\n",
       "      <td>186.160570</td>\n",
       "      <td>19118.050299</td>\n",
       "      <td>7.054444</td>\n",
       "      <td>359.406236</td>\n",
       "      <td>577.491371</td>\n",
       "      <td>8.304288</td>\n",
       "      <td>73.153089</td>\n",
       "      <td>3.597760</td>\n",
       "      <td>0</td>\n",
       "    </tr>\n",
       "    <tr>\n",
       "      <th>1331</th>\n",
       "      <td>6.057068</td>\n",
       "      <td>184.373232</td>\n",
       "      <td>14807.268490</td>\n",
       "      <td>5.753405</td>\n",
       "      <td>384.821967</td>\n",
       "      <td>462.006170</td>\n",
       "      <td>14.753055</td>\n",
       "      <td>34.265860</td>\n",
       "      <td>4.371748</td>\n",
       "      <td>0</td>\n",
       "    </tr>\n",
       "    <tr>\n",
       "      <th>...</th>\n",
       "      <td>...</td>\n",
       "      <td>...</td>\n",
       "      <td>...</td>\n",
       "      <td>...</td>\n",
       "      <td>...</td>\n",
       "      <td>...</td>\n",
       "      <td>...</td>\n",
       "      <td>...</td>\n",
       "      <td>...</td>\n",
       "      <td>...</td>\n",
       "    </tr>\n",
       "    <tr>\n",
       "      <th>2595</th>\n",
       "      <td>7.682762</td>\n",
       "      <td>211.663852</td>\n",
       "      <td>12723.342101</td>\n",
       "      <td>6.672341</td>\n",
       "      <td>380.945603</td>\n",
       "      <td>360.107441</td>\n",
       "      <td>14.175317</td>\n",
       "      <td>69.949675</td>\n",
       "      <td>5.044306</td>\n",
       "      <td>0</td>\n",
       "    </tr>\n",
       "    <tr>\n",
       "      <th>2496</th>\n",
       "      <td>6.057905</td>\n",
       "      <td>149.122794</td>\n",
       "      <td>23603.501870</td>\n",
       "      <td>6.537028</td>\n",
       "      <td>302.698631</td>\n",
       "      <td>393.293478</td>\n",
       "      <td>17.615229</td>\n",
       "      <td>54.217939</td>\n",
       "      <td>4.269753</td>\n",
       "      <td>0</td>\n",
       "    </tr>\n",
       "    <tr>\n",
       "      <th>660</th>\n",
       "      <td>7.543931</td>\n",
       "      <td>192.234541</td>\n",
       "      <td>24227.961139</td>\n",
       "      <td>7.241343</td>\n",
       "      <td>336.151050</td>\n",
       "      <td>369.427699</td>\n",
       "      <td>18.188873</td>\n",
       "      <td>70.588507</td>\n",
       "      <td>3.703191</td>\n",
       "      <td>1</td>\n",
       "    </tr>\n",
       "    <tr>\n",
       "      <th>1403</th>\n",
       "      <td>7.721033</td>\n",
       "      <td>203.354788</td>\n",
       "      <td>35800.699273</td>\n",
       "      <td>7.683399</td>\n",
       "      <td>312.919044</td>\n",
       "      <td>424.966995</td>\n",
       "      <td>18.092608</td>\n",
       "      <td>96.442129</td>\n",
       "      <td>4.168487</td>\n",
       "      <td>0</td>\n",
       "    </tr>\n",
       "    <tr>\n",
       "      <th>2075</th>\n",
       "      <td>14.000000</td>\n",
       "      <td>235.677458</td>\n",
       "      <td>24008.992040</td>\n",
       "      <td>5.635029</td>\n",
       "      <td>381.097711</td>\n",
       "      <td>460.745267</td>\n",
       "      <td>13.452538</td>\n",
       "      <td>72.859468</td>\n",
       "      <td>3.170994</td>\n",
       "      <td>0</td>\n",
       "    </tr>\n",
       "  </tbody>\n",
       "</table>\n",
       "<p>1809 rows × 10 columns</p>\n",
       "</div>"
      ],
      "text/plain": [
       "             ph    Hardness        Solids  Chloramines     Sulfate  \\\n",
       "52     6.652488  145.010172  19871.788448     4.961066  288.052192   \n",
       "1059   7.617149  196.606942  27080.268722     7.382755  345.179887   \n",
       "3209   4.857803  222.399990  15668.273618     7.900790  320.394529   \n",
       "2211   4.808040  186.160570  19118.050299     7.054444  359.406236   \n",
       "1331   6.057068  184.373232  14807.268490     5.753405  384.821967   \n",
       "...         ...         ...           ...          ...         ...   \n",
       "2595   7.682762  211.663852  12723.342101     6.672341  380.945603   \n",
       "2496   6.057905  149.122794  23603.501870     6.537028  302.698631   \n",
       "660    7.543931  192.234541  24227.961139     7.241343  336.151050   \n",
       "1403   7.721033  203.354788  35800.699273     7.683399  312.919044   \n",
       "2075  14.000000  235.677458  24008.992040     5.635029  381.097711   \n",
       "\n",
       "      Conductivity  Organic_carbon  Trihalomethanes  Turbidity  Potability  \n",
       "52      545.974994       10.942024        71.727414   3.742090           0  \n",
       "1059    329.016646        8.547283        60.144702   2.391540           0  \n",
       "3209    417.804063       15.530563        84.228774   3.966571           1  \n",
       "2211    577.491371        8.304288        73.153089   3.597760           0  \n",
       "1331    462.006170       14.753055        34.265860   4.371748           0  \n",
       "...            ...             ...              ...        ...         ...  \n",
       "2595    360.107441       14.175317        69.949675   5.044306           0  \n",
       "2496    393.293478       17.615229        54.217939   4.269753           0  \n",
       "660     369.427699       18.188873        70.588507   3.703191           1  \n",
       "1403    424.966995       18.092608        96.442129   4.168487           0  \n",
       "2075    460.745267       13.452538        72.859468   3.170994           0  \n",
       "\n",
       "[1809 rows x 10 columns]"
      ]
     },
     "execution_count": 253,
     "metadata": {},
     "output_type": "execute_result"
    }
   ],
   "source": [
    "df_treino"
   ]
  },
  {
   "cell_type": "code",
   "execution_count": 254,
   "id": "14bfd17b",
   "metadata": {},
   "outputs": [
    {
     "data": {
      "text/html": [
       "<div>\n",
       "<style scoped>\n",
       "    .dataframe tbody tr th:only-of-type {\n",
       "        vertical-align: middle;\n",
       "    }\n",
       "\n",
       "    .dataframe tbody tr th {\n",
       "        vertical-align: top;\n",
       "    }\n",
       "\n",
       "    .dataframe thead th {\n",
       "        text-align: right;\n",
       "    }\n",
       "</style>\n",
       "<table border=\"1\" class=\"dataframe\">\n",
       "  <thead>\n",
       "    <tr style=\"text-align: right;\">\n",
       "      <th></th>\n",
       "      <th>ph</th>\n",
       "      <th>Hardness</th>\n",
       "      <th>Solids</th>\n",
       "      <th>Chloramines</th>\n",
       "      <th>Sulfate</th>\n",
       "      <th>Conductivity</th>\n",
       "      <th>Organic_carbon</th>\n",
       "      <th>Trihalomethanes</th>\n",
       "      <th>Turbidity</th>\n",
       "      <th>Potability</th>\n",
       "    </tr>\n",
       "  </thead>\n",
       "  <tbody>\n",
       "    <tr>\n",
       "      <th>1342</th>\n",
       "      <td>8.248703</td>\n",
       "      <td>201.338857</td>\n",
       "      <td>24912.879705</td>\n",
       "      <td>7.877666</td>\n",
       "      <td>389.088844</td>\n",
       "      <td>415.683448</td>\n",
       "      <td>12.842048</td>\n",
       "      <td>51.859151</td>\n",
       "      <td>3.540532</td>\n",
       "      <td>0</td>\n",
       "    </tr>\n",
       "    <tr>\n",
       "      <th>452</th>\n",
       "      <td>7.040245</td>\n",
       "      <td>192.955983</td>\n",
       "      <td>20988.429410</td>\n",
       "      <td>6.422359</td>\n",
       "      <td>320.948844</td>\n",
       "      <td>381.357350</td>\n",
       "      <td>15.396455</td>\n",
       "      <td>88.298465</td>\n",
       "      <td>3.993410</td>\n",
       "      <td>0</td>\n",
       "    </tr>\n",
       "    <tr>\n",
       "      <th>192</th>\n",
       "      <td>7.362737</td>\n",
       "      <td>185.692181</td>\n",
       "      <td>16268.448606</td>\n",
       "      <td>5.317019</td>\n",
       "      <td>316.918648</td>\n",
       "      <td>419.258448</td>\n",
       "      <td>16.024246</td>\n",
       "      <td>64.678914</td>\n",
       "      <td>4.408513</td>\n",
       "      <td>0</td>\n",
       "    </tr>\n",
       "    <tr>\n",
       "      <th>2504</th>\n",
       "      <td>4.851104</td>\n",
       "      <td>146.627237</td>\n",
       "      <td>20227.643783</td>\n",
       "      <td>6.340534</td>\n",
       "      <td>368.941214</td>\n",
       "      <td>346.520310</td>\n",
       "      <td>15.266726</td>\n",
       "      <td>56.989926</td>\n",
       "      <td>3.644107</td>\n",
       "      <td>0</td>\n",
       "    </tr>\n",
       "    <tr>\n",
       "      <th>1177</th>\n",
       "      <td>5.484151</td>\n",
       "      <td>196.791251</td>\n",
       "      <td>19378.359067</td>\n",
       "      <td>5.003731</td>\n",
       "      <td>295.591019</td>\n",
       "      <td>348.399033</td>\n",
       "      <td>18.713876</td>\n",
       "      <td>76.414153</td>\n",
       "      <td>4.438858</td>\n",
       "      <td>1</td>\n",
       "    </tr>\n",
       "    <tr>\n",
       "      <th>...</th>\n",
       "      <td>...</td>\n",
       "      <td>...</td>\n",
       "      <td>...</td>\n",
       "      <td>...</td>\n",
       "      <td>...</td>\n",
       "      <td>...</td>\n",
       "      <td>...</td>\n",
       "      <td>...</td>\n",
       "      <td>...</td>\n",
       "      <td>...</td>\n",
       "    </tr>\n",
       "    <tr>\n",
       "      <th>2053</th>\n",
       "      <td>3.846454</td>\n",
       "      <td>211.757205</td>\n",
       "      <td>14686.283390</td>\n",
       "      <td>7.557873</td>\n",
       "      <td>326.912134</td>\n",
       "      <td>371.269374</td>\n",
       "      <td>21.765170</td>\n",
       "      <td>35.781529</td>\n",
       "      <td>3.143431</td>\n",
       "      <td>0</td>\n",
       "    </tr>\n",
       "    <tr>\n",
       "      <th>2307</th>\n",
       "      <td>9.808258</td>\n",
       "      <td>220.049574</td>\n",
       "      <td>34132.067979</td>\n",
       "      <td>9.752751</td>\n",
       "      <td>233.870327</td>\n",
       "      <td>367.044379</td>\n",
       "      <td>13.498665</td>\n",
       "      <td>62.954260</td>\n",
       "      <td>4.481261</td>\n",
       "      <td>1</td>\n",
       "    </tr>\n",
       "    <tr>\n",
       "      <th>2439</th>\n",
       "      <td>7.895769</td>\n",
       "      <td>168.724047</td>\n",
       "      <td>28723.617627</td>\n",
       "      <td>9.341475</td>\n",
       "      <td>353.976181</td>\n",
       "      <td>517.436676</td>\n",
       "      <td>11.992772</td>\n",
       "      <td>79.860552</td>\n",
       "      <td>4.391731</td>\n",
       "      <td>1</td>\n",
       "    </tr>\n",
       "    <tr>\n",
       "      <th>212</th>\n",
       "      <td>5.304143</td>\n",
       "      <td>160.968358</td>\n",
       "      <td>25299.511557</td>\n",
       "      <td>6.286043</td>\n",
       "      <td>300.500689</td>\n",
       "      <td>497.790391</td>\n",
       "      <td>15.013030</td>\n",
       "      <td>61.115513</td>\n",
       "      <td>4.165724</td>\n",
       "      <td>0</td>\n",
       "    </tr>\n",
       "    <tr>\n",
       "      <th>1107</th>\n",
       "      <td>6.799376</td>\n",
       "      <td>239.057680</td>\n",
       "      <td>7986.493239</td>\n",
       "      <td>10.365680</td>\n",
       "      <td>419.881175</td>\n",
       "      <td>373.232137</td>\n",
       "      <td>18.828594</td>\n",
       "      <td>43.440644</td>\n",
       "      <td>3.819985</td>\n",
       "      <td>1</td>\n",
       "    </tr>\n",
       "  </tbody>\n",
       "</table>\n",
       "<p>202 rows × 10 columns</p>\n",
       "</div>"
      ],
      "text/plain": [
       "            ph    Hardness        Solids  Chloramines     Sulfate  \\\n",
       "1342  8.248703  201.338857  24912.879705     7.877666  389.088844   \n",
       "452   7.040245  192.955983  20988.429410     6.422359  320.948844   \n",
       "192   7.362737  185.692181  16268.448606     5.317019  316.918648   \n",
       "2504  4.851104  146.627237  20227.643783     6.340534  368.941214   \n",
       "1177  5.484151  196.791251  19378.359067     5.003731  295.591019   \n",
       "...        ...         ...           ...          ...         ...   \n",
       "2053  3.846454  211.757205  14686.283390     7.557873  326.912134   \n",
       "2307  9.808258  220.049574  34132.067979     9.752751  233.870327   \n",
       "2439  7.895769  168.724047  28723.617627     9.341475  353.976181   \n",
       "212   5.304143  160.968358  25299.511557     6.286043  300.500689   \n",
       "1107  6.799376  239.057680   7986.493239    10.365680  419.881175   \n",
       "\n",
       "      Conductivity  Organic_carbon  Trihalomethanes  Turbidity  Potability  \n",
       "1342    415.683448       12.842048        51.859151   3.540532           0  \n",
       "452     381.357350       15.396455        88.298465   3.993410           0  \n",
       "192     419.258448       16.024246        64.678914   4.408513           0  \n",
       "2504    346.520310       15.266726        56.989926   3.644107           0  \n",
       "1177    348.399033       18.713876        76.414153   4.438858           1  \n",
       "...            ...             ...              ...        ...         ...  \n",
       "2053    371.269374       21.765170        35.781529   3.143431           0  \n",
       "2307    367.044379       13.498665        62.954260   4.481261           1  \n",
       "2439    517.436676       11.992772        79.860552   4.391731           1  \n",
       "212     497.790391       15.013030        61.115513   4.165724           0  \n",
       "1107    373.232137       18.828594        43.440644   3.819985           1  \n",
       "\n",
       "[202 rows x 10 columns]"
      ]
     },
     "execution_count": 254,
     "metadata": {},
     "output_type": "execute_result"
    }
   ],
   "source": [
    "df_teste"
   ]
  },
  {
   "cell_type": "markdown",
   "id": "0ed23bb9",
   "metadata": {},
   "source": [
    "Inicialmente, retirou-se o atributo *potability* pois ele apresenta apenas valores binários que não influenciam muito no modelo. Assim, definimos os nossos atributos para o treino e o target para a previsão."
   ]
  },
  {
   "cell_type": "code",
   "execution_count": 255,
   "id": "da3d2789",
   "metadata": {},
   "outputs": [],
   "source": [
    "atr_treino = df_treino[[\"ph\",\"Solids\",\"Chloramines\",\"Sulfate\",\"Conductivity\",\"Organic_carbon\",\"Trihalomethanes\",\"Turbidity\"]]\n",
    "target_treino = df_treino[\"Hardness\"]\n",
    "\n",
    "atr_teste = df_teste[[\"ph\",\"Solids\",\"Chloramines\",\"Sulfate\",\"Conductivity\",\"Organic_carbon\",\"Trihalomethanes\",\"Turbidity\"]]\n",
    "target_teste = df_teste[\"Hardness\"]"
   ]
  },
  {
   "cell_type": "markdown",
   "id": "36aa668f",
   "metadata": {},
   "source": [
    "Nem sempre é eficiente usar todos os atributos possíveis para treinar um modelo, por isso, fizemos uma seleção de atributos pelo método de Remoção Recursiva de Atributos (RFE), desejando obter apenas as 4 features mais relevantes para realizar a previsão. O modelo de aprendizado de máquina que foi utilizado é a **Regressão Linear Lasso**, que segue o mesmo princípio da regressão linear por minímos quadrados, mais adiciona algumas camadas matemáticas com o intuito de melhorar a performance do modelo."
   ]
  },
  {
   "cell_type": "code",
   "execution_count": 256,
   "id": "3ccc470a",
   "metadata": {},
   "outputs": [
    {
     "name": "stdout",
     "output_type": "stream",
     "text": [
      "Número de atributos selecionados: 4\n",
      "Colunas selecionadas: [ True False False  True False  True  True False]\n",
      "Ordenação (rank) dos atributos [1 3 5 1 2 1 1 4]\n"
     ]
    }
   ],
   "source": [
    "from sklearn.feature_selection import RFE\n",
    "from sklearn.linear_model import Lasso\n",
    "\n",
    "NUM_ATRIBUTOS_DESEJADOS = 4\n",
    "\n",
    "modelo = Lasso()\n",
    "\n",
    "seletor = RFE(modelo, n_features_to_select=NUM_ATRIBUTOS_DESEJADOS)\n",
    "seletor.fit(atr_treino, target_treino)\n",
    "\n",
    "atr_treino_modificado = seletor.transform(atr_treino)\n",
    "atr_teste_modificado = seletor.transform(atr_teste)\n",
    "\n",
    "print(f\"Número de atributos selecionados: {seletor.n_features_}\")\n",
    "print(f\"Colunas selecionadas: {seletor.support_}\")\n",
    "print(f\"Ordenação (rank) dos atributos {seletor.ranking_}\")"
   ]
  },
  {
   "cell_type": "markdown",
   "id": "bac7f6f7",
   "metadata": {},
   "source": [
    "Após a seleção, definiu-se que os atributos mais relevantes são: **pH, Sulfate, Organic_carbon e Trihalomethanes**, logo, será apenas com eles que treinaremos nosso modelo. No modelo Lasso, um dos hiperparâmetros é valor de alpha, um coeficiente que será usado para melhorar a aproximação dos coeficientes. Para encontrar o melhor valor de alpha, fizemos uma validação cruzada variando os valores."
   ]
  },
  {
   "cell_type": "code",
   "execution_count": 257,
   "id": "51d5583a",
   "metadata": {},
   "outputs": [
    {
     "name": "stdout",
     "output_type": "stream",
     "text": [
      "Os valores de alpha testado foram: [150.91029447 140.73944571 131.2540781  122.40799253 114.15810352\n",
      " 106.46422942  99.28889668  92.59715735  86.35641886  80.53628525\n",
      "  75.10840917  70.04635377  65.32546396  60.92274633  56.81675713\n",
      "  52.98749786  49.41631784  46.08582341  42.97979316  40.08309895\n",
      "  37.38163223  34.86223533  32.51263735  30.32139441  28.27783391\n",
      "  26.37200254  24.59461784  22.93702291  21.39114433  19.9494528\n",
      "  18.60492645  17.35101667  16.18161622  15.09102945  14.07394457\n",
      "  13.12540781  12.24079925  11.41581035  10.64642294   9.92888967\n",
      "   9.25971573   8.63564189   8.05362852   7.51084092   7.00463538\n",
      "   6.5325464    6.09227463   5.68167571   5.29874979   4.94163178\n",
      "   4.60858234   4.29797932   4.00830989   3.73816322   3.48622353\n",
      "   3.25126373   3.03213944   2.82778339   2.63720025   2.45946178\n",
      "   2.29370229   2.13911443   1.99494528   1.86049264   1.73510167\n",
      "   1.61816162   1.50910294   1.40739446   1.31254078   1.22407993\n",
      "   1.14158104   1.06464229   0.99288897   0.92597157   0.86356419\n",
      "   0.80536285   0.75108409   0.70046354   0.65325464   0.60922746\n",
      "   0.56816757   0.52987498   0.49416318   0.46085823   0.42979793\n",
      "   0.40083099   0.37381632   0.34862235   0.32512637   0.30321394\n",
      "   0.28277834   0.26372003   0.24594618   0.22937023   0.21391144\n",
      "   0.19949453   0.18604926   0.17351017   0.16181616   0.15091029].\n",
      "Dentre os valores testados, o que apresentou melhor desempenho foi 0.1509102944734299.\n"
     ]
    }
   ],
   "source": [
    "from sklearn.linear_model import LassoCV\n",
    "\n",
    "#implementação do modelo\n",
    "modelo_lassocv = LassoCV(cv=10)\n",
    "\n",
    "#fitando o modelo\n",
    "modelo_lassocv.fit(atr_treino_modificado, target_treino)\n",
    "\n",
    "#guandando o melhor alpha encontrado\n",
    "melhor_alpha = modelo_lassocv.alpha_\n",
    "list_alphas = modelo_lassocv.alphas_\n",
    "\n",
    "print(f\"Os valores de alpha testado foram: {list_alphas}.\")\n",
    "print(f\"Dentre os valores testados, o que apresentou melhor desempenho foi {melhor_alpha}.\")"
   ]
  },
  {
   "cell_type": "markdown",
   "id": "7a51bbfc",
   "metadata": {},
   "source": [
    "Após toda essa preparação, conseguimos finalmente aplicar o modelo do modo como queremos, usando o melhor valor de alpha que encontramos e os 3 atributos mais relevantes. Faremos também a avaliação da performance do modelo fazendo o RMSE considerando os dados previstos e os dados de teste. "
   ]
  },
  {
   "cell_type": "code",
   "execution_count": 258,
   "id": "3f6df1e7",
   "metadata": {},
   "outputs": [
    {
     "name": "stdout",
     "output_type": "stream",
     "text": [
      "O RMSE do modelo linear Lasso foi de 34.24280909719526 mg/L.\n"
     ]
    }
   ],
   "source": [
    "from sklearn.linear_model import Lasso\n",
    "\n",
    "modelo_lasso = Lasso(alpha=melhor_alpha)\n",
    "\n",
    "modelo_lasso.fit(atr_treino_modificado,target_treino)\n",
    "\n",
    "previsoes_lasso = modelo_lasso.predict(atr_teste_modificado)\n",
    "\n",
    "RMSE_lasso = calcula_RMSE(target_teste, previsoes_lasso)\n",
    "\n",
    "print(f\"O RMSE do modelo linear Lasso foi de {RMSE_lasso} mg/L.\")"
   ]
  },
  {
   "cell_type": "markdown",
   "id": "58029692",
   "metadata": {},
   "source": [
    "Obtivemos esse valor de RMSE, o que considerando a dimensão dos dados, já parece grande, mas para termos melhor certeza da performance, comparamos com a performance do modelo **baseline**"
   ]
  },
  {
   "cell_type": "code",
   "execution_count": 259,
   "id": "72312881",
   "metadata": {},
   "outputs": [
    {
     "name": "stdout",
     "output_type": "stream",
     "text": [
      "O RMSE do modelo baseline foi de 34.53543651088391 mg/L.\n"
     ]
    }
   ],
   "source": [
    "from sklearn.dummy import DummyRegressor\n",
    " \n",
    "modelo_bl = DummyRegressor()\n",
    " \n",
    "modelo_bl.fit(atr_treino_modificado,target_treino)\n",
    " \n",
    "previsoes_bl = modelo_bl.predict(atr_teste_modificado)\n",
    " \n",
    "RMSE_bl = calcula_RMSE(target_teste, previsoes_bl)\n",
    " \n",
    "print(f\"O RMSE do modelo baseline foi de {RMSE_bl} mg/L.\")"
   ]
  },
  {
   "cell_type": "markdown",
   "id": "aa591393",
   "metadata": {},
   "source": [
    "O RMSE do Baseline foi bastante parecido com o do modelo Lasso, o que nos indica que nosso modelo não é muito bom. A hipótese que foi levantada é a de que isso se deve a má qualidade dos dados do dataset, uma vez que eles apresentam baixíssima correlação, além de informações bastante estranhas e não-condizentes com a realidade. Decidimos, portanto, testar o modelo com o dataset **Penguins**, fornecido pela biblioteca `Seaborn`, afim de obter resultados mais conclusivos."
   ]
  },
  {
   "cell_type": "markdown",
   "id": "a710f1ca",
   "metadata": {},
   "source": [
    "## <font color=blue>Penguins para nos salvar"
   ]
  },
  {
   "cell_type": "markdown",
   "id": "fce52b47",
   "metadata": {},
   "source": [
    "O passo a passo da preparação e aplicação do modelo no dataset *penguins* não difere muito da feita com o dataset *Water Quality*. Logo, vamos nos focar nos resultados finais do modelo."
   ]
  },
  {
   "cell_type": "code",
   "execution_count": 260,
   "id": "8bebfd24",
   "metadata": {},
   "outputs": [
    {
     "data": {
      "text/html": [
       "<div>\n",
       "<style scoped>\n",
       "    .dataframe tbody tr th:only-of-type {\n",
       "        vertical-align: middle;\n",
       "    }\n",
       "\n",
       "    .dataframe tbody tr th {\n",
       "        vertical-align: top;\n",
       "    }\n",
       "\n",
       "    .dataframe thead th {\n",
       "        text-align: right;\n",
       "    }\n",
       "</style>\n",
       "<table border=\"1\" class=\"dataframe\">\n",
       "  <thead>\n",
       "    <tr style=\"text-align: right;\">\n",
       "      <th></th>\n",
       "      <th>species</th>\n",
       "      <th>island</th>\n",
       "      <th>bill_length_mm</th>\n",
       "      <th>bill_depth_mm</th>\n",
       "      <th>flipper_length_mm</th>\n",
       "      <th>body_mass_g</th>\n",
       "      <th>sex</th>\n",
       "    </tr>\n",
       "  </thead>\n",
       "  <tbody>\n",
       "    <tr>\n",
       "      <th>0</th>\n",
       "      <td>Adelie</td>\n",
       "      <td>Torgersen</td>\n",
       "      <td>39.1</td>\n",
       "      <td>18.7</td>\n",
       "      <td>181.0</td>\n",
       "      <td>3750.0</td>\n",
       "      <td>Male</td>\n",
       "    </tr>\n",
       "    <tr>\n",
       "      <th>1</th>\n",
       "      <td>Adelie</td>\n",
       "      <td>Torgersen</td>\n",
       "      <td>39.5</td>\n",
       "      <td>17.4</td>\n",
       "      <td>186.0</td>\n",
       "      <td>3800.0</td>\n",
       "      <td>Female</td>\n",
       "    </tr>\n",
       "    <tr>\n",
       "      <th>2</th>\n",
       "      <td>Adelie</td>\n",
       "      <td>Torgersen</td>\n",
       "      <td>40.3</td>\n",
       "      <td>18.0</td>\n",
       "      <td>195.0</td>\n",
       "      <td>3250.0</td>\n",
       "      <td>Female</td>\n",
       "    </tr>\n",
       "    <tr>\n",
       "      <th>4</th>\n",
       "      <td>Adelie</td>\n",
       "      <td>Torgersen</td>\n",
       "      <td>36.7</td>\n",
       "      <td>19.3</td>\n",
       "      <td>193.0</td>\n",
       "      <td>3450.0</td>\n",
       "      <td>Female</td>\n",
       "    </tr>\n",
       "    <tr>\n",
       "      <th>5</th>\n",
       "      <td>Adelie</td>\n",
       "      <td>Torgersen</td>\n",
       "      <td>39.3</td>\n",
       "      <td>20.6</td>\n",
       "      <td>190.0</td>\n",
       "      <td>3650.0</td>\n",
       "      <td>Male</td>\n",
       "    </tr>\n",
       "    <tr>\n",
       "      <th>...</th>\n",
       "      <td>...</td>\n",
       "      <td>...</td>\n",
       "      <td>...</td>\n",
       "      <td>...</td>\n",
       "      <td>...</td>\n",
       "      <td>...</td>\n",
       "      <td>...</td>\n",
       "    </tr>\n",
       "    <tr>\n",
       "      <th>338</th>\n",
       "      <td>Gentoo</td>\n",
       "      <td>Biscoe</td>\n",
       "      <td>47.2</td>\n",
       "      <td>13.7</td>\n",
       "      <td>214.0</td>\n",
       "      <td>4925.0</td>\n",
       "      <td>Female</td>\n",
       "    </tr>\n",
       "    <tr>\n",
       "      <th>340</th>\n",
       "      <td>Gentoo</td>\n",
       "      <td>Biscoe</td>\n",
       "      <td>46.8</td>\n",
       "      <td>14.3</td>\n",
       "      <td>215.0</td>\n",
       "      <td>4850.0</td>\n",
       "      <td>Female</td>\n",
       "    </tr>\n",
       "    <tr>\n",
       "      <th>341</th>\n",
       "      <td>Gentoo</td>\n",
       "      <td>Biscoe</td>\n",
       "      <td>50.4</td>\n",
       "      <td>15.7</td>\n",
       "      <td>222.0</td>\n",
       "      <td>5750.0</td>\n",
       "      <td>Male</td>\n",
       "    </tr>\n",
       "    <tr>\n",
       "      <th>342</th>\n",
       "      <td>Gentoo</td>\n",
       "      <td>Biscoe</td>\n",
       "      <td>45.2</td>\n",
       "      <td>14.8</td>\n",
       "      <td>212.0</td>\n",
       "      <td>5200.0</td>\n",
       "      <td>Female</td>\n",
       "    </tr>\n",
       "    <tr>\n",
       "      <th>343</th>\n",
       "      <td>Gentoo</td>\n",
       "      <td>Biscoe</td>\n",
       "      <td>49.9</td>\n",
       "      <td>16.1</td>\n",
       "      <td>213.0</td>\n",
       "      <td>5400.0</td>\n",
       "      <td>Male</td>\n",
       "    </tr>\n",
       "  </tbody>\n",
       "</table>\n",
       "<p>333 rows × 7 columns</p>\n",
       "</div>"
      ],
      "text/plain": [
       "    species     island  bill_length_mm  bill_depth_mm  flipper_length_mm  \\\n",
       "0    Adelie  Torgersen            39.1           18.7              181.0   \n",
       "1    Adelie  Torgersen            39.5           17.4              186.0   \n",
       "2    Adelie  Torgersen            40.3           18.0              195.0   \n",
       "4    Adelie  Torgersen            36.7           19.3              193.0   \n",
       "5    Adelie  Torgersen            39.3           20.6              190.0   \n",
       "..      ...        ...             ...            ...                ...   \n",
       "338  Gentoo     Biscoe            47.2           13.7              214.0   \n",
       "340  Gentoo     Biscoe            46.8           14.3              215.0   \n",
       "341  Gentoo     Biscoe            50.4           15.7              222.0   \n",
       "342  Gentoo     Biscoe            45.2           14.8              212.0   \n",
       "343  Gentoo     Biscoe            49.9           16.1              213.0   \n",
       "\n",
       "     body_mass_g     sex  \n",
       "0         3750.0    Male  \n",
       "1         3800.0  Female  \n",
       "2         3250.0  Female  \n",
       "4         3450.0  Female  \n",
       "5         3650.0    Male  \n",
       "..           ...     ...  \n",
       "338       4925.0  Female  \n",
       "340       4850.0  Female  \n",
       "341       5750.0    Male  \n",
       "342       5200.0  Female  \n",
       "343       5400.0    Male  \n",
       "\n",
       "[333 rows x 7 columns]"
      ]
     },
     "execution_count": 260,
     "metadata": {},
     "output_type": "execute_result"
    }
   ],
   "source": [
    "import seaborn as sb\n",
    "\n",
    "df_p = sb.load_dataset('penguins')\n",
    "df_p = df_p.dropna()\n",
    "df_p"
   ]
  },
  {
   "cell_type": "code",
   "execution_count": 261,
   "id": "4ac602c0",
   "metadata": {},
   "outputs": [],
   "source": [
    "indices_p = df_p.index\n",
    "indices_p_treino, indices_p_teste = train_test_split(\n",
    "    indices_p, test_size=TAMANHO_TESTE, random_state=SEMENTE_ALEATORIA\n",
    ")\n",
    "\n",
    "df_p_treino = df_p.loc[indices_p_treino]\n",
    "df_p_teste = df_p.loc[indices_p_teste]"
   ]
  },
  {
   "cell_type": "markdown",
   "id": "95c09e03",
   "metadata": {},
   "source": [
    "Usamos apenas os atributos numéricos para treinar o modelo, uma vez que misturá-los envolveria conhecimentos que não temos ainda."
   ]
  },
  {
   "cell_type": "code",
   "execution_count": 262,
   "id": "3efa61da",
   "metadata": {},
   "outputs": [],
   "source": [
    "atr_treino_p = df_p_treino[[\"bill_length_mm\",\"bill_depth_mm\",\"flipper_length_mm\"]]\n",
    "target_treino_p = df_p_treino[\"body_mass_g\"]\n",
    "\n",
    "atr_teste_p = df_p_teste[[\"bill_length_mm\",\"bill_depth_mm\",\"flipper_length_mm\"]]\n",
    "target_teste_p = df_p_teste[\"body_mass_g\"]"
   ]
  },
  {
   "cell_type": "code",
   "execution_count": 263,
   "id": "3c125952",
   "metadata": {},
   "outputs": [
    {
     "name": "stdout",
     "output_type": "stream",
     "text": [
      "Os valores de alpha testado foram: [150.91029447 140.73944571 131.2540781  122.40799253 114.15810352\n",
      " 106.46422942  99.28889668  92.59715735  86.35641886  80.53628525\n",
      "  75.10840917  70.04635377  65.32546396  60.92274633  56.81675713\n",
      "  52.98749786  49.41631784  46.08582341  42.97979316  40.08309895\n",
      "  37.38163223  34.86223533  32.51263735  30.32139441  28.27783391\n",
      "  26.37200254  24.59461784  22.93702291  21.39114433  19.9494528\n",
      "  18.60492645  17.35101667  16.18161622  15.09102945  14.07394457\n",
      "  13.12540781  12.24079925  11.41581035  10.64642294   9.92888967\n",
      "   9.25971573   8.63564189   8.05362852   7.51084092   7.00463538\n",
      "   6.5325464    6.09227463   5.68167571   5.29874979   4.94163178\n",
      "   4.60858234   4.29797932   4.00830989   3.73816322   3.48622353\n",
      "   3.25126373   3.03213944   2.82778339   2.63720025   2.45946178\n",
      "   2.29370229   2.13911443   1.99494528   1.86049264   1.73510167\n",
      "   1.61816162   1.50910294   1.40739446   1.31254078   1.22407993\n",
      "   1.14158104   1.06464229   0.99288897   0.92597157   0.86356419\n",
      "   0.80536285   0.75108409   0.70046354   0.65325464   0.60922746\n",
      "   0.56816757   0.52987498   0.49416318   0.46085823   0.42979793\n",
      "   0.40083099   0.37381632   0.34862235   0.32512637   0.30321394\n",
      "   0.28277834   0.26372003   0.24594618   0.22937023   0.21391144\n",
      "   0.19949453   0.18604926   0.17351017   0.16181616   0.15091029].\n",
      "Dentre os valores testados, o que apresentou melhor desempenho foi 0.1509102944734299.\n"
     ]
    }
   ],
   "source": [
    "modelo_lassocv_p = LassoCV(cv=10)\n",
    "\n",
    "#fitando o modelo\n",
    "modelo_lassocv_p.fit(atr_treino_p, target_treino_p)\n",
    "\n",
    "#guandando o melhor alpha encontrado\n",
    "melhor_alpha_p = modelo_lassocv.alpha_\n",
    "list_alphas = modelo_lassocv.alphas_\n",
    "\n",
    "print(f\"Os valores de alpha testado foram: {list_alphas}.\")\n",
    "print(f\"Dentre os valores testados, o que apresentou melhor desempenho foi {melhor_alpha_p}.\")"
   ]
  },
  {
   "cell_type": "code",
   "execution_count": 264,
   "id": "33d57f35",
   "metadata": {},
   "outputs": [
    {
     "name": "stdout",
     "output_type": "stream",
     "text": [
      "O RMSE do modelo linear Lasso foi de 355.2861858684008 g.\n"
     ]
    }
   ],
   "source": [
    "modelo_lasso_p = Lasso(alpha=melhor_alpha_p)\n",
    "\n",
    "modelo_lasso_p.fit(atr_treino_p,target_treino_p)\n",
    "\n",
    "previsoes_lasso_p = modelo_lasso_p.predict(atr_teste_p)\n",
    "\n",
    "RMSE_lasso_p = calcula_RMSE(target_teste_p, previsoes_lasso_p)\n",
    "\n",
    "print(f\"O RMSE do modelo linear Lasso foi de {RMSE_lasso_p} g.\")"
   ]
  },
  {
   "cell_type": "code",
   "execution_count": 265,
   "id": "0f88357c",
   "metadata": {},
   "outputs": [
    {
     "name": "stdout",
     "output_type": "stream",
     "text": [
      "O RMSE do modelo baseline foi de 774.42427411348 g.\n"
     ]
    }
   ],
   "source": [
    "from sklearn.dummy import DummyRegressor\n",
    " \n",
    "modelo_bl_p = DummyRegressor()\n",
    " \n",
    "modelo_bl_p.fit(atr_treino_p,target_treino_p)\n",
    " \n",
    "previsoes_bl_p = modelo_bl_p.predict(atr_teste_p)\n",
    " \n",
    "RMSE_bl_p = calcula_RMSE(target_teste_p, previsoes_bl_p)\n",
    " \n",
    "print(f\"O RMSE do modelo baseline foi de {RMSE_bl_p} g.\")"
   ]
  },
  {
   "cell_type": "markdown",
   "id": "92d268ce",
   "metadata": {},
   "source": [
    "Após isso, obtemos melhores resultados para fundamentarem nossa análise acerca da questão proposta. O modelo Lasso desempenhou um bom resultado, tendo um RMSE de menos da metade do RMSE do baseline. Com esse resultado, vamos agora para a aplicação da normalização dos dados para verificar se faz diferença os dados serem normalizados antes do treino."
   ]
  },
  {
   "cell_type": "markdown",
   "id": "135373a5",
   "metadata": {},
   "source": [
    "# <font color=gold>Normalizando a estranheza"
   ]
  },
  {
   "cell_type": "markdown",
   "id": "90957cd5",
   "metadata": {},
   "source": [
    "Um dos principais processos em pré-processamento de dados para aplicação de modelos de aprendizado de máquina é a normalização dos dados, que consiste em diminuir a diferença de escala dos dados para que valores muito altos ou muito pequenos não se sobreponham aos demais nas diversas operações matemáticas dos modelos. Um tipo de normalização muito usada é a **Normalização Padrão**, que consiste em transformar a média dos dados em 0 e o desvio padrão em 1. Ela foi aplicada ao dataset *Water Quality* (não vamos desistir dele ainda) usando a função **StandardScaler** da biblioteca `scikit.learn`."
   ]
  },
  {
   "cell_type": "code",
   "execution_count": 266,
   "id": "cdcced81",
   "metadata": {},
   "outputs": [],
   "source": [
    "from sklearn.preprocessing import StandardScaler\n",
    "\n",
    "# Instanciando o normalizador\n",
    "normalizador = StandardScaler()\n",
    "\n",
    "# Ajustando o normalizador aos dados\n",
    "normalizador.fit(df)\n",
    "\n",
    "# Armazenando os resultados do normalizador\n",
    "normaldata = normalizador.transform(df)"
   ]
  },
  {
   "cell_type": "markdown",
   "id": "45216e11",
   "metadata": {},
   "source": [
    "Por padrão, o que o normalizador devolve é um array dos dados, mas para a aplicação precisamos deles em um **DataFrame**, logo, armazenamos abaixo os dados normalizados em um DataFrame."
   ]
  },
  {
   "cell_type": "code",
   "execution_count": 267,
   "id": "e06145f8",
   "metadata": {},
   "outputs": [
    {
     "name": "stdout",
     "output_type": "stream",
     "text": [
      "             0         1         2         3         4         5         6  \\\n",
      "0     0.782466  0.564114  0.011687  0.583804  0.574378 -0.783962  1.227032   \n",
      "1     1.275463 -0.455653 -0.455835 -0.370947 -0.560480 -0.348429 -0.842154   \n",
      "2    -0.954835 -0.234614  0.790645  0.259104 -0.158911 -1.810063 -1.792340   \n",
      "3     1.994902  1.596951  0.790764  0.239248  1.467140 -1.770608 -0.170876   \n",
      "4     0.985323  0.226606 -0.954313 -1.622878 -0.726179  0.595858 -0.599824   \n",
      "...        ...       ...       ...       ...       ...       ...       ...   \n",
      "2006  1.210411  0.584770 -0.693978 -0.528284 -0.492625 -0.447578 -1.341281   \n",
      "2007 -0.243774  0.347964 -0.540564  0.362137 -0.697038 -1.205321  0.559422   \n",
      "2008  2.800492 -3.100365  1.767503  1.343596 -1.803476  0.165656  0.546021   \n",
      "2009 -0.646160 -0.285317  0.488576  0.387023  0.302843 -0.131852 -0.688929   \n",
      "2010 -1.537172 -0.070075  2.970287  0.020386  0.648718  1.238006 -0.139372   \n",
      "\n",
      "             7         8         9  \n",
      "0     2.111652  0.844761 -0.822091  \n",
      "1    -2.140399  0.135033 -0.822091  \n",
      "2    -0.714423 -1.807366 -0.822091  \n",
      "3     1.132494 -1.662163 -0.822091  \n",
      "4    -0.224135  0.553348 -0.822091  \n",
      "...        ...       ...       ...  \n",
      "2006 -0.705001  0.825626  1.216411  \n",
      "2007 -2.334474 -0.675183  1.216411  \n",
      "2008 -1.545585  0.512125  1.216411  \n",
      "2009 -0.372108 -0.384562  1.216411  \n",
      "2010  0.017846  0.597437  1.216411  \n",
      "\n",
      "[2011 rows x 10 columns]\n"
     ]
    }
   ],
   "source": [
    "df_norm = pd.DataFrame(normaldata)\n",
    "\n",
    "print(df_norm)"
   ]
  },
  {
   "cell_type": "markdown",
   "id": "b38cd7a4",
   "metadata": {},
   "source": [
    "Ao normalizar o dataframe, altera-se o nome das colunas, transformando-as em números começando de 0, a ordem porém é mantida, o que nos permite entender a quais colunas aqueles dados se referem.\n",
    "\n",
    "Assim como nos modelos já aplicados acima, realizamos o split de treino e teste."
   ]
  },
  {
   "cell_type": "code",
   "execution_count": 268,
   "id": "452926f8",
   "metadata": {},
   "outputs": [
    {
     "name": "stdout",
     "output_type": "stream",
     "text": [
      "RangeIndex(start=0, stop=10, step=1)\n"
     ]
    }
   ],
   "source": [
    "from sklearn.model_selection import train_test_split\n",
    "\n",
    "TAMANHO_TESTE = 0.1\n",
    "SEMENTE_ALEATORIA = 2110024\n",
    "\n",
    "indices = df_norm.index\n",
    "indices_treino, indices_teste = train_test_split(\n",
    "    indices, test_size=TAMANHO_TESTE, random_state=SEMENTE_ALEATORIA\n",
    ")\n",
    "\n",
    "df_norm_treino = df_norm.loc[indices_treino]\n",
    "df_norm_teste = df_norm.loc[indices_teste]\n",
    "\n",
    "print(df_norm_treino.columns)"
   ]
  },
  {
   "cell_type": "markdown",
   "id": "8f92a34c",
   "metadata": {},
   "source": [
    "Após isso, dividimos novamente entre atributos e target."
   ]
  },
  {
   "cell_type": "code",
   "execution_count": 269,
   "id": "ecfb6493",
   "metadata": {},
   "outputs": [
    {
     "name": "stdout",
     "output_type": "stream",
     "text": [
      "Os atributos normalizados de treino são:\n",
      "             0         2         3         4         5         6         7  \\\n",
      "28   -0.275599 -0.236763 -1.371646 -1.096554  1.480293 -1.027542  0.331395   \n",
      "661   0.337684  0.597543  0.156786  0.290211 -1.208412 -1.747953 -0.389231   \n",
      "1969 -1.416570 -0.723276  0.483741 -0.311450 -0.108094  0.352830  1.109176   \n",
      "1359 -1.448207 -0.324000 -0.050425  0.635553  1.870867 -1.821053  0.420095   \n",
      "818  -0.654137 -0.822928 -0.871567  1.252516  0.439691  0.118932 -1.999302   \n",
      "...        ...       ...       ...       ...       ...       ...       ...   \n",
      "1598  0.379398 -1.064121 -0.291587  1.158418 -0.823112 -0.054869  0.220792   \n",
      "1535 -0.653605  0.195144 -0.376988 -0.741015 -0.411847  0.979961 -0.757969   \n",
      "406   0.291136  0.267418  0.067536  0.071037 -0.707609  1.152530  0.260537   \n",
      "862   0.403728  1.606842  0.346536 -0.492916 -0.019325  1.123571  1.869039   \n",
      "1273  4.395582  0.242075 -0.946279  1.162110  0.424065 -0.272303  0.401827   \n",
      "\n",
      "             8  \n",
      "28   -0.291787  \n",
      "661  -2.022924  \n",
      "1969 -0.004048  \n",
      "1359 -0.476790  \n",
      "818   0.515309  \n",
      "...        ...  \n",
      "1598  1.377395  \n",
      "1535  0.384572  \n",
      "406  -0.341648  \n",
      "862   0.254769  \n",
      "1273 -1.023819  \n",
      "\n",
      "[1809 rows x 8 columns]\n"
     ]
    }
   ],
   "source": [
    "atr_norm_treino = df_norm_treino[[0,2,3,4,5,6,7,8]]\n",
    "target_norm_treino = df_norm_treino[1]\n",
    "\n",
    "atr_norm_teste = df_norm_teste[[0,2,3,4,5,6,7,8]]\n",
    "target_norm_teste = df_norm_teste[1]\n",
    "\n",
    "print('Os atributos normalizados de treino são:')\n",
    "print(atr_norm_treino)"
   ]
  },
  {
   "cell_type": "markdown",
   "id": "2ede537c",
   "metadata": {},
   "source": [
    "Da mesma maneira, realizamos a seleção de atributos por RFE e a validação cruzada para encontrar o melhor alpha."
   ]
  },
  {
   "cell_type": "code",
   "execution_count": 270,
   "id": "99d08421",
   "metadata": {},
   "outputs": [
    {
     "name": "stdout",
     "output_type": "stream",
     "text": [
      "Número de atributos selecionados: 4\n",
      "Colunas selecionadas: [False False False False  True  True  True  True]\n",
      "Ordenação (rank) dos atributos [5 4 3 2 1 1 1 1]\n"
     ]
    }
   ],
   "source": [
    "from sklearn.feature_selection import RFE\n",
    "from sklearn.linear_model import Lasso\n",
    "\n",
    "NUM_ATRIBUTOS_DESEJADOS = 4\n",
    "\n",
    "modelo = Lasso()\n",
    "\n",
    "seletor = RFE(modelo, n_features_to_select=NUM_ATRIBUTOS_DESEJADOS)\n",
    "seletor.fit(atr_norm_treino, target_norm_treino)\n",
    "\n",
    "atr_norm_treino_modificado = seletor.transform(atr_norm_treino)\n",
    "atr_norm_teste_modificado = seletor.transform(atr_norm_teste)\n",
    "\n",
    "print(f\"Número de atributos selecionados: {seletor.n_features_}\")\n",
    "print(f\"Colunas selecionadas: {seletor.support_}\")\n",
    "print(f\"Ordenação (rank) dos atributos {seletor.ranking_}\")"
   ]
  },
  {
   "cell_type": "code",
   "execution_count": 271,
   "id": "3429cbc5",
   "metadata": {},
   "outputs": [
    {
     "name": "stdout",
     "output_type": "stream",
     "text": [
      "Os valores de alpha testado foram: [2.87931663e-02 2.68526032e-02 2.50428277e-02 2.33550249e-02\n",
      " 2.17809744e-02 2.03130096e-02 1.89439807e-02 1.76672198e-02\n",
      " 1.64765084e-02 1.53660468e-02 1.43304267e-02 1.33646039e-02\n",
      " 1.24638743e-02 1.16238509e-02 1.08404423e-02 1.01098327e-02\n",
      " 9.42846385e-03 8.79301694e-03 8.20039703e-03 7.64771772e-03\n",
      " 7.13228714e-03 6.65159486e-03 6.20329963e-03 5.78521799e-03\n",
      " 5.39531366e-03 5.03168758e-03 4.69256868e-03 4.37630525e-03\n",
      " 4.08135693e-03 3.80628713e-03 3.54975612e-03 3.31051443e-03\n",
      " 3.08739684e-03 2.87931663e-03 2.68526032e-03 2.50428277e-03\n",
      " 2.33550249e-03 2.17809744e-03 2.03130096e-03 1.89439807e-03\n",
      " 1.76672198e-03 1.64765084e-03 1.53660468e-03 1.43304267e-03\n",
      " 1.33646039e-03 1.24638743e-03 1.16238509e-03 1.08404423e-03\n",
      " 1.01098327e-03 9.42846385e-04 8.79301694e-04 8.20039703e-04\n",
      " 7.64771772e-04 7.13228714e-04 6.65159486e-04 6.20329963e-04\n",
      " 5.78521799e-04 5.39531366e-04 5.03168758e-04 4.69256868e-04\n",
      " 4.37630525e-04 4.08135693e-04 3.80628713e-04 3.54975612e-04\n",
      " 3.31051443e-04 3.08739684e-04 2.87931663e-04 2.68526032e-04\n",
      " 2.50428277e-04 2.33550249e-04 2.17809744e-04 2.03130096e-04\n",
      " 1.89439807e-04 1.76672198e-04 1.64765084e-04 1.53660468e-04\n",
      " 1.43304267e-04 1.33646039e-04 1.24638743e-04 1.16238509e-04\n",
      " 1.08404423e-04 1.01098327e-04 9.42846385e-05 8.79301694e-05\n",
      " 8.20039703e-05 7.64771772e-05 7.13228714e-05 6.65159486e-05\n",
      " 6.20329963e-05 5.78521799e-05 5.39531366e-05 5.03168758e-05\n",
      " 4.69256868e-05 4.37630525e-05 4.08135693e-05 3.80628713e-05\n",
      " 3.54975612e-05 3.31051443e-05 3.08739684e-05 2.87931663e-05].\n",
      "Dentre os valores testados, o que apresentou melhor desempenho foi 0.1509102944734299.\n"
     ]
    }
   ],
   "source": [
    "from sklearn.linear_model import LassoCV\n",
    "\n",
    "#implementação do modelo\n",
    "modelo_lassocv_n = LassoCV(cv=10)\n",
    "\n",
    "#fitando o modelo\n",
    "modelo_lassocv_n.fit(atr_norm_treino_modificado, target_norm_treino)\n",
    "\n",
    "#guandando o melhor alpha encontrado\n",
    "melhor_alpha_n = modelo_lassocv_n.alpha_\n",
    "list_alphas = modelo_lassocv_n.alphas_\n",
    "\n",
    "print(f\"Os valores de alpha testado foram: {list_alphas}.\")\n",
    "print(f\"Dentre os valores testados, o que apresentou melhor desempenho foi {melhor_alpha}.\")"
   ]
  },
  {
   "cell_type": "markdown",
   "id": "fb38849d",
   "metadata": {},
   "source": [
    "Depois dos processos acima, foi possível aplicar o modelo com os atributos e hiperparâmtros definidos."
   ]
  },
  {
   "cell_type": "code",
   "execution_count": 284,
   "id": "cd4e8ac3",
   "metadata": {},
   "outputs": [
    {
     "name": "stdout",
     "output_type": "stream",
     "text": [
      "O RMSE do modelo linear Lasso foi de 1.0584935461942098 mg/L.\n"
     ]
    }
   ],
   "source": [
    "from sklearn.linear_model import Lasso\n",
    "\n",
    "modelo_lasso_n = Lasso(alpha=melhor_alpha_n)\n",
    "\n",
    "modelo_lasso_n.fit(atr_norm_treino_modificado,target_norm_treino)\n",
    "\n",
    "df_atr_teste_modificado = pd.DataFrame(atr_norm_teste_modificado)\n",
    "\n",
    "previsoes_lasso = modelo_lasso_n.predict(df_atr_teste_modificado)\n",
    "\n",
    "RMSE_lasso = calcula_RMSE(target_norm_teste, previsoes_lasso)\n",
    "\n",
    "print(f\"O RMSE do modelo linear Lasso foi de {RMSE_lasso} mg/L.\")"
   ]
  },
  {
   "cell_type": "markdown",
   "id": "6487b346",
   "metadata": {},
   "source": [
    "Assim como antes, esse valor de RMSE sozinho não nos diz muito, portanto, comparamos com o desempenho do baseline."
   ]
  },
  {
   "cell_type": "code",
   "execution_count": 286,
   "id": "cb5606d9",
   "metadata": {},
   "outputs": [
    {
     "name": "stdout",
     "output_type": "stream",
     "text": [
      "O RMSE do modelo baseline foi de 1.0584935461942098 mg/L.\n"
     ]
    }
   ],
   "source": [
    "from sklearn.dummy import DummyRegressor\n",
    " \n",
    "modelo_bl = DummyRegressor()\n",
    " \n",
    "modelo_bl.fit(atr_norm_treino_modificado,target_norm_treino)\n",
    " \n",
    "previsoes_bl = modelo_bl.predict(atr_norm_teste_modificado)\n",
    " \n",
    "RMSE_bl = calcula_RMSE(target_norm_teste, previsoes_bl)\n",
    " \n",
    "print(f\"O RMSE do modelo baseline foi de {RMSE_bl} mg/L.\")"
   ]
  },
  {
   "cell_type": "markdown",
   "id": "3dc31737",
   "metadata": {},
   "source": [
    "Os RMSE deram exatamente o mesmo valor até a 16° casa decimal, o que é estranhíssimo, e indica que nosso modelo não é bom, provavelmente devido a **péssima** qualidade do dataset. Vamos, então, voltar para nossos fofos e queridos penguins que têm apresentado melhores resultados."
   ]
  },
  {
   "cell_type": "markdown",
   "id": "122642b6",
   "metadata": {},
   "source": [
    "## <font color=blue>Super Penguins - O Retorno"
   ]
  },
  {
   "cell_type": "markdown",
   "id": "27dbc4b7",
   "metadata": {},
   "source": [
    "Aplicaremos o modelo Lasso novamente no dataset *penguins*, mas dessa vez, normalizaremos os dados para treinar o modelo. O processo de normalização segue da mesma maneira como já foi desenvolvido anteriormente."
   ]
  },
  {
   "cell_type": "code",
   "execution_count": 274,
   "id": "c38cbc95",
   "metadata": {},
   "outputs": [],
   "source": [
    "df_pen = df_p[[\"bill_length_mm\",\"bill_depth_mm\",\"flipper_length_mm\",\"body_mass_g\"]]"
   ]
  },
  {
   "cell_type": "code",
   "execution_count": 275,
   "id": "2011697a",
   "metadata": {},
   "outputs": [
    {
     "data": {
      "text/html": [
       "<div>\n",
       "<style scoped>\n",
       "    .dataframe tbody tr th:only-of-type {\n",
       "        vertical-align: middle;\n",
       "    }\n",
       "\n",
       "    .dataframe tbody tr th {\n",
       "        vertical-align: top;\n",
       "    }\n",
       "\n",
       "    .dataframe thead th {\n",
       "        text-align: right;\n",
       "    }\n",
       "</style>\n",
       "<table border=\"1\" class=\"dataframe\">\n",
       "  <thead>\n",
       "    <tr style=\"text-align: right;\">\n",
       "      <th></th>\n",
       "      <th>bill_length_mm</th>\n",
       "      <th>bill_depth_mm</th>\n",
       "      <th>flipper_length_mm</th>\n",
       "      <th>body_mass_g</th>\n",
       "    </tr>\n",
       "  </thead>\n",
       "  <tbody>\n",
       "    <tr>\n",
       "      <th>0</th>\n",
       "      <td>-0.896042</td>\n",
       "      <td>0.780732</td>\n",
       "      <td>-1.426752</td>\n",
       "      <td>-0.568475</td>\n",
       "    </tr>\n",
       "    <tr>\n",
       "      <th>1</th>\n",
       "      <td>-0.822788</td>\n",
       "      <td>0.119584</td>\n",
       "      <td>-1.069474</td>\n",
       "      <td>-0.506286</td>\n",
       "    </tr>\n",
       "    <tr>\n",
       "      <th>2</th>\n",
       "      <td>-0.676280</td>\n",
       "      <td>0.424729</td>\n",
       "      <td>-0.426373</td>\n",
       "      <td>-1.190361</td>\n",
       "    </tr>\n",
       "    <tr>\n",
       "      <th>3</th>\n",
       "      <td>-1.335566</td>\n",
       "      <td>1.085877</td>\n",
       "      <td>-0.569284</td>\n",
       "      <td>-0.941606</td>\n",
       "    </tr>\n",
       "    <tr>\n",
       "      <th>4</th>\n",
       "      <td>-0.859415</td>\n",
       "      <td>1.747026</td>\n",
       "      <td>-0.783651</td>\n",
       "      <td>-0.692852</td>\n",
       "    </tr>\n",
       "    <tr>\n",
       "      <th>...</th>\n",
       "      <td>...</td>\n",
       "      <td>...</td>\n",
       "      <td>...</td>\n",
       "      <td>...</td>\n",
       "    </tr>\n",
       "    <tr>\n",
       "      <th>328</th>\n",
       "      <td>0.587352</td>\n",
       "      <td>-1.762145</td>\n",
       "      <td>0.931283</td>\n",
       "      <td>0.892957</td>\n",
       "    </tr>\n",
       "    <tr>\n",
       "      <th>329</th>\n",
       "      <td>0.514098</td>\n",
       "      <td>-1.457000</td>\n",
       "      <td>1.002739</td>\n",
       "      <td>0.799674</td>\n",
       "    </tr>\n",
       "    <tr>\n",
       "      <th>330</th>\n",
       "      <td>1.173384</td>\n",
       "      <td>-0.744994</td>\n",
       "      <td>1.502928</td>\n",
       "      <td>1.919069</td>\n",
       "    </tr>\n",
       "    <tr>\n",
       "      <th>331</th>\n",
       "      <td>0.221082</td>\n",
       "      <td>-1.202712</td>\n",
       "      <td>0.788372</td>\n",
       "      <td>1.234995</td>\n",
       "    </tr>\n",
       "    <tr>\n",
       "      <th>332</th>\n",
       "      <td>1.081817</td>\n",
       "      <td>-0.541564</td>\n",
       "      <td>0.859828</td>\n",
       "      <td>1.483749</td>\n",
       "    </tr>\n",
       "  </tbody>\n",
       "</table>\n",
       "<p>333 rows × 4 columns</p>\n",
       "</div>"
      ],
      "text/plain": [
       "     bill_length_mm  bill_depth_mm  flipper_length_mm  body_mass_g\n",
       "0         -0.896042       0.780732          -1.426752    -0.568475\n",
       "1         -0.822788       0.119584          -1.069474    -0.506286\n",
       "2         -0.676280       0.424729          -0.426373    -1.190361\n",
       "3         -1.335566       1.085877          -0.569284    -0.941606\n",
       "4         -0.859415       1.747026          -0.783651    -0.692852\n",
       "..              ...            ...                ...          ...\n",
       "328        0.587352      -1.762145           0.931283     0.892957\n",
       "329        0.514098      -1.457000           1.002739     0.799674\n",
       "330        1.173384      -0.744994           1.502928     1.919069\n",
       "331        0.221082      -1.202712           0.788372     1.234995\n",
       "332        1.081817      -0.541564           0.859828     1.483749\n",
       "\n",
       "[333 rows x 4 columns]"
      ]
     },
     "execution_count": 275,
     "metadata": {},
     "output_type": "execute_result"
    }
   ],
   "source": [
    "normalizador = StandardScaler()\n",
    "\n",
    "normalizador.fit(df_pen)\n",
    "\n",
    "normdata_p = normalizador.transform(df_pen)\n",
    "\n",
    "df_pen_norm = pd.DataFrame(normdata_p,columns=[\"bill_length_mm\",\"bill_depth_mm\",\"flipper_length_mm\",\"body_mass_g\"])\n",
    "df_pen_norm"
   ]
  },
  {
   "cell_type": "markdown",
   "id": "bed5c661",
   "metadata": {},
   "source": [
    "- ### <font color=darkred>Split de Treino e Teste"
   ]
  },
  {
   "cell_type": "code",
   "execution_count": 276,
   "id": "8d2d007c",
   "metadata": {},
   "outputs": [],
   "source": [
    "indices_p_norm = df_pen_norm.index\n",
    "indices_treino_p_norm, indices_teste_p_norm = train_test_split(\n",
    "    indices_p_norm, test_size=TAMANHO_TESTE, random_state=SEMENTE_ALEATORIA\n",
    ")\n",
    "\n",
    "df_p_norm_treino = df_pen_norm.loc[indices_treino_p_norm]\n",
    "df_p_norm_teste = df_pen_norm.loc[indices_teste_p_norm]"
   ]
  },
  {
   "cell_type": "markdown",
   "id": "ee9e6266",
   "metadata": {},
   "source": [
    "- ### <font color=darkred>Separação dos Atributos e Target"
   ]
  },
  {
   "cell_type": "code",
   "execution_count": 277,
   "id": "7e5a2061",
   "metadata": {},
   "outputs": [],
   "source": [
    "atr_norm_treino_p = df_p_norm_treino[[\"bill_length_mm\",\"bill_depth_mm\",\"flipper_length_mm\"]]\n",
    "target_norm_treino_p = df_p_norm_treino[\"body_mass_g\"]\n",
    "\n",
    "atr_norm_teste_p = df_p_norm_teste[[\"bill_length_mm\",\"bill_depth_mm\",\"flipper_length_mm\"]]\n",
    "target_norm_teste_p = df_p_norm_teste[\"body_mass_g\"]"
   ]
  },
  {
   "cell_type": "markdown",
   "id": "680809c9",
   "metadata": {},
   "source": [
    "- ### <font color=darkred>Validação Cruzada para o melhor alpha"
   ]
  },
  {
   "cell_type": "code",
   "execution_count": 278,
   "id": "cdc7e25a",
   "metadata": {},
   "outputs": [
    {
     "name": "stdout",
     "output_type": "stream",
     "text": [
      "Os valores de alpha testado foram: [0.87024074 0.81158943 0.75689102 0.7058791  0.65830521 0.61393764\n",
      " 0.5725603  0.53397165 0.49798375 0.46442131 0.43312087 0.40392997\n",
      " 0.37670644 0.35131769 0.32764005 0.30555821 0.28496461 0.26575895\n",
      " 0.24784768 0.23114358 0.21556528 0.2010369  0.18748768 0.17485164\n",
      " 0.16306723 0.15207704 0.14182756 0.13226885 0.12335438 0.1150407\n",
      " 0.10728735 0.10005654 0.09331306 0.08702407 0.08115894 0.0756891\n",
      " 0.07058791 0.06583052 0.06139376 0.05725603 0.05339716 0.04979837\n",
      " 0.04644213 0.04331209 0.040393   0.03767064 0.03513177 0.03276401\n",
      " 0.03055582 0.02849646 0.02657589 0.02478477 0.02311436 0.02155653\n",
      " 0.02010369 0.01874877 0.01748516 0.01630672 0.0152077  0.01418276\n",
      " 0.01322689 0.01233544 0.01150407 0.01072873 0.01000565 0.00933131\n",
      " 0.00870241 0.00811589 0.00756891 0.00705879 0.00658305 0.00613938\n",
      " 0.0057256  0.00533972 0.00497984 0.00464421 0.00433121 0.0040393\n",
      " 0.00376706 0.00351318 0.0032764  0.00305558 0.00284965 0.00265759\n",
      " 0.00247848 0.00231144 0.00215565 0.00201037 0.00187488 0.00174852\n",
      " 0.00163067 0.00152077 0.00141828 0.00132269 0.00123354 0.00115041\n",
      " 0.00107287 0.00100057 0.00093313 0.00087024].\n",
      "Dentre os valores testados, o que apresentou melhor desempenho foi 0.1509102944734299.\n"
     ]
    }
   ],
   "source": [
    "modelo_lassocv_p_n = LassoCV(cv=10)\n",
    "\n",
    "modelo_lassocv_p_n.fit(atr_norm_treino_p, target_norm_treino_p)\n",
    "\n",
    "melhor_alpha_p_n = modelo_lassocv_n.alpha_\n",
    "list_alphas = modelo_lassocv_p_n.alphas_\n",
    "\n",
    "print(f\"Os valores de alpha testado foram: {list_alphas}.\")\n",
    "print(f\"Dentre os valores testados, o que apresentou melhor desempenho foi {melhor_alpha}.\")"
   ]
  },
  {
   "cell_type": "markdown",
   "id": "2e765efa",
   "metadata": {},
   "source": [
    "- ### <font color=darkred>Implementação do modelo"
   ]
  },
  {
   "cell_type": "code",
   "execution_count": 279,
   "id": "95d4aa2d",
   "metadata": {},
   "outputs": [
    {
     "name": "stdout",
     "output_type": "stream",
     "text": [
      "O RMSE do modelo linear Lasso foi de 0.42636805605896694 g.\n"
     ]
    }
   ],
   "source": [
    "modelo_lasso_p_n = Lasso(alpha=melhor_alpha_p_n)\n",
    "\n",
    "modelo_lasso_p_n.fit(atr_norm_treino_p,target_norm_treino_p)\n",
    "\n",
    "previsoes_lasso_p_n = modelo_lasso_p_n.predict(atr_norm_teste_p)\n",
    "\n",
    "RMSE_lasso_p_n = calcula_RMSE(target_norm_teste_p, previsoes_lasso_p_n)\n",
    "\n",
    "print(f\"O RMSE do modelo linear Lasso foi de {RMSE_lasso_p_n} g.\")"
   ]
  },
  {
   "cell_type": "markdown",
   "id": "e0cc44b1",
   "metadata": {},
   "source": [
    "- ### <font color=darkred>Baseline para comparação"
   ]
  },
  {
   "cell_type": "code",
   "execution_count": 280,
   "id": "67c36299",
   "metadata": {},
   "outputs": [
    {
     "name": "stdout",
     "output_type": "stream",
     "text": [
      "O RMSE do modelo baseline foi de 0.9632072507031078 mg/L.\n"
     ]
    }
   ],
   "source": [
    "from sklearn.dummy import DummyRegressor\n",
    " \n",
    "modelo_bl = DummyRegressor()\n",
    " \n",
    "modelo_bl.fit(atr_norm_treino_p,target_norm_treino_p)\n",
    " \n",
    "previsoes_bl_p_n = modelo_bl.predict(atr_norm_teste_p)\n",
    " \n",
    "RMSE_bl_p_n = calcula_RMSE(target_norm_teste_p, previsoes_bl_p_n)\n",
    " \n",
    "print(f\"O RMSE do modelo baseline foi de {RMSE_bl_p_n} mg/L.\")"
   ]
  },
  {
   "cell_type": "markdown",
   "id": "1e90ab43",
   "metadata": {},
   "source": [
    "Finalmente, com os resultados obtidos podemos fazer a devida análise da diferença de desempenho entre modelos treinados com dados normalizados e não-normalizados. Para isso, vamos avaliar os modelos através da razão entre a performance do modelo Lasso e a performande do baseline. A partir disso, quanto menor a razão melhor a performance."
   ]
  },
  {
   "cell_type": "code",
   "execution_count": 281,
   "id": "88f959a2",
   "metadata": {},
   "outputs": [
    {
     "name": "stdout",
     "output_type": "stream",
     "text": [
      "Razão da performance nos dados normalizados\n",
      "0.44265453332886884\n",
      "\n",
      "Razão da performance nos dados não normalizados\n",
      "0.45877459907247053\n"
     ]
    }
   ],
   "source": [
    "print('Razão da performance nos dados normalizados')\n",
    "print(RMSE_lasso_p_n/RMSE_bl_p_n)\n",
    "print()\n",
    "print('Razão da performance nos dados não normalizados')\n",
    "print(RMSE_lasso_p/RMSE_bl_p)"
   ]
  },
  {
   "cell_type": "markdown",
   "id": "35324e6c",
   "metadata": {},
   "source": [
    "É possível observar que a performance com os dados normalizados foi melhor do que com os dados não-normalizados, logo a afirmação dada é verdadeira."
   ]
  },
  {
   "cell_type": "markdown",
   "id": "b00a6f4d",
   "metadata": {},
   "source": [
    "# <font color=gold>Análise Final"
   ]
  },
  {
   "cell_type": "markdown",
   "id": "8c4b6e40",
   "metadata": {},
   "source": [
    "O que podemos concluir a partir do trabalho desenvolvido, é que a afirmação de Vostrasirus está, de fato, correta, a performance do modelo melhora com dados normalizados. Isso no diz que normalizador os dados é uma etapa importante no processo de indução de modelos preditivos. E que Vostrasirus parece não estar mentindo, porém, mais análises são necessárias..."
   ]
  },
  {
   "cell_type": "markdown",
   "id": "59bcf7d9",
   "metadata": {},
   "source": [
    "# <font color=blue>Referências"
   ]
  },
  {
   "cell_type": "markdown",
   "id": "6c2d703d",
   "metadata": {},
   "source": [
    "- CASSAR, DR. ATP-203 1.1 - Tratamento de dados. Microsoft Teams, T03-ATP-203 - Aprendizado de Máquina, Material de Aula.\n",
    "\n",
    "- CASSAR, DR. ATP-203 2.1 - Aprendizado de máquina, k-NN e métricas. Microsoft Teams, T03-ATP-203 - Aprendizado de Máquina, Material de Aula.\n",
    "\n",
    "- CASSAR, DR. ATP-203 3.0 - Modelo linear e baseline. Microsoft Teams, T03-ATP-203 - Aprendizado de Máquina, Material de Aula.\n",
    "\n",
    "- CASSAR, DR. ATP-203 4.0 - Split de dados de treino e teste. Microsoft Teams, T03-ATP-203 - Aprendizado de Máquina, Material de Aula.\n",
    "\n",
    "- CASSAR, DR. ATP-203 5.0 - Validação cruzada, busca aleatória e busca em grade. Microsoft Teams, T03-ATP-203 - Aprendizado de Máquina, Material de Aula.\n",
    "\n",
    "- CASSAR, DR. ATP-203 7.1 - Seleção de atributos. Microsoft Teams, T03-ATP-203 - Aprendizado de Máquina, Material de Aula.\n",
    "\n",
    "- Water Quality. Disponível em: <https://www.kaggle.com/datasets/adityakadiwal/water-potability>. Acesso em: 27 de Set. 2024.\n",
    "\n",
    "- KIREN, M. Lasso regression: a comprehensive guide. Disponível em: <https://kirenz.github.io/regression/docs/lasso.html>. Acesso em: 27 set. 2024.\n",
    "\n",
    "- SCIKIT LEARN. LassoCV — scikit-learn 0.22 Documentation. Disponível em: <https://scikit-learn.org/stable/modules/generated/sklearn.linear_model.LassoCV.html>. Acesso em: 27 de Out. 2024."
   ]
  }
 ],
 "metadata": {
  "kernelspec": {
   "display_name": "ilumpy",
   "language": "python",
   "name": "ilumpy"
  },
  "language_info": {
   "codemirror_mode": {
    "name": "ipython",
    "version": 3
   },
   "file_extension": ".py",
   "mimetype": "text/x-python",
   "name": "python",
   "nbconvert_exporter": "python",
   "pygments_lexer": "ipython3",
   "version": "3.11.6"
  }
 },
 "nbformat": 4,
 "nbformat_minor": 5
}
