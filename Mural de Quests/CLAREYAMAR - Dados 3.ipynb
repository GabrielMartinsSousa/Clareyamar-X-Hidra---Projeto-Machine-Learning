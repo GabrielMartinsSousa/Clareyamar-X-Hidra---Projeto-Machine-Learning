{
 "cells": [
  {
   "cell_type": "markdown",
   "id": "9ac2e48f",
   "metadata": {},
   "source": [
    "# <font color=darkred><center>CLAREYAMAR <br>\n",
    "### <font color=gold><center>Clara Lelis, Yasmin Shimizu, Gabriel Martins<br>\n",
    " <font color=darkred><center>*Inluminans Ignotus*☀️🌊\n",
    " \n",
    "<font color=black><center>Divisão responsável pela segurança das águas territoriais e regiões portuárias do reino de Lumi, iluminando a escuridão dos mares e as profundezas do oceano.\n",
    "### <font color=blue><center> Quests 1\n",
    "<font color=black><center> Nos seus primeiros dias em Lumi, a divisão Clareyamar visitou a Taverna do Sol, buscando possíveis informações sobre o despertar de seus poderes de luz e a localização do deus Pheabus. Assim, o grupo descobre a cultura dos Murais de Quests e decidem ajudar a população local com seus pedidos, visando conhecer melhor a região, os seus habitantes e adquirir mais informações para sua missão principal de libertação da Aurora de Netuno.\n",
    "    \n",
    "##### <font color=darkred><center> Missão 4: Ordinal ou One-Hot?\n",
    "<div class=\"alert alert-warning\">\n",
    "<center> \"Escolha um conjunto de dados qualquer que contenha pelo menos uma coluna com dados categóricos que não sejam binários (isto é, não podem ser dados com apenas dois rótulos possíveis). Faça uma conversão simbólico-numérica neste conjunto de dados utilizando o codificador ordinal se possível. Se não for possível, utilize o codificador one-hot. \n",
    "    \n",
    "<center>Observe que “ser possível” quer dizer “ser tecnicamente correto” neste caso, não basta seu código executar sem erros, é importante nque você reflita se sua variável categórica é ordinal ou nominal\"\n",
    "</div>\n",
    "    \n",
    "<font color=darkred><center> Introdução da missão 4<br>\n",
    "<font color=black> Alguns dados não são expressados por informações numéricas, tendo isso em vista a divisão Clareyamar realizou a analise dos dados observados no treinamento de seus membros a fim de ajudar a Senhorita Creizuda, utilizando o dataset Exercise e observando o tipo de exercício realizado descrito na coluna \"kind\"."
   ]
  },
  {
   "cell_type": "code",
   "execution_count": 1,
   "id": "2ac36600",
   "metadata": {},
   "outputs": [],
   "source": [
    "import seaborn as sb\n",
    "import matplotlib.pyplot as plt\n",
    "import statistics as st"
   ]
  },
  {
   "cell_type": "code",
   "execution_count": 2,
   "id": "00c08f82",
   "metadata": {},
   "outputs": [
    {
     "data": {
      "text/html": [
       "<div>\n",
       "<style scoped>\n",
       "    .dataframe tbody tr th:only-of-type {\n",
       "        vertical-align: middle;\n",
       "    }\n",
       "\n",
       "    .dataframe tbody tr th {\n",
       "        vertical-align: top;\n",
       "    }\n",
       "\n",
       "    .dataframe thead th {\n",
       "        text-align: right;\n",
       "    }\n",
       "</style>\n",
       "<table border=\"1\" class=\"dataframe\">\n",
       "  <thead>\n",
       "    <tr style=\"text-align: right;\">\n",
       "      <th></th>\n",
       "      <th>Unnamed: 0</th>\n",
       "      <th>id</th>\n",
       "      <th>diet</th>\n",
       "      <th>pulse</th>\n",
       "      <th>time</th>\n",
       "      <th>kind</th>\n",
       "    </tr>\n",
       "  </thead>\n",
       "  <tbody>\n",
       "    <tr>\n",
       "      <th>0</th>\n",
       "      <td>0</td>\n",
       "      <td>1</td>\n",
       "      <td>low fat</td>\n",
       "      <td>85</td>\n",
       "      <td>1 min</td>\n",
       "      <td>rest</td>\n",
       "    </tr>\n",
       "    <tr>\n",
       "      <th>1</th>\n",
       "      <td>1</td>\n",
       "      <td>1</td>\n",
       "      <td>low fat</td>\n",
       "      <td>85</td>\n",
       "      <td>15 min</td>\n",
       "      <td>rest</td>\n",
       "    </tr>\n",
       "    <tr>\n",
       "      <th>2</th>\n",
       "      <td>2</td>\n",
       "      <td>1</td>\n",
       "      <td>low fat</td>\n",
       "      <td>88</td>\n",
       "      <td>30 min</td>\n",
       "      <td>rest</td>\n",
       "    </tr>\n",
       "  </tbody>\n",
       "</table>\n",
       "</div>"
      ],
      "text/plain": [
       "   Unnamed: 0  id     diet  pulse    time  kind\n",
       "0           0   1  low fat     85   1 min  rest\n",
       "1           1   1  low fat     85  15 min  rest\n",
       "2           2   1  low fat     88  30 min  rest"
      ]
     },
     "execution_count": 2,
     "metadata": {},
     "output_type": "execute_result"
    }
   ],
   "source": [
    "treinamento=sb.load_dataset(\"exercise\")\n",
    "treinamento.head(3)"
   ]
  },
  {
   "cell_type": "markdown",
   "id": "21a07635",
   "metadata": {},
   "source": [
    "<font color=black> Os tipos de exercicio abrangidos são \"rest\", \"walking\" e \"running\", sendo possível inferir uma ordem nesses dados, parado/rest=0, caminhando/walking=1, correndo/running=2, logo a melhor escolha é o codificador ordinal."
   ]
  },
  {
   "cell_type": "code",
   "execution_count": 3,
   "id": "4f74db2f",
   "metadata": {},
   "outputs": [],
   "source": [
    "from sklearn.preprocessing import OrdinalEncoder"
   ]
  },
  {
   "cell_type": "code",
   "execution_count": 4,
   "id": "b8abc8a4",
   "metadata": {},
   "outputs": [],
   "source": [
    "exercicios=treinamento[\"kind\"].values.reshape(-1, 1)\n",
    "ordem=[[\"rest\", \"walking\", \"running\"]] \n",
    "encoder=OrdinalEncoder(categories=ordem)\n",
    "encoder.fit(exercicios)\n",
    "conversão=encoder.transform(exercicios)"
   ]
  },
  {
   "cell_type": "code",
   "execution_count": 5,
   "id": "18951332",
   "metadata": {},
   "outputs": [
    {
     "name": "stdout",
     "output_type": "stream",
     "text": [
      "Dados convertidos:\n",
      "[[0.]\n",
      " [0.]\n",
      " [0.]\n",
      " [0.]\n",
      " [0.]\n",
      " [0.]\n",
      " [0.]\n",
      " [0.]\n",
      " [0.]\n",
      " [0.]\n",
      " [0.]\n",
      " [0.]\n",
      " [0.]\n",
      " [0.]\n",
      " [0.]\n",
      " [0.]\n",
      " [0.]\n",
      " [0.]\n",
      " [0.]\n",
      " [0.]\n",
      " [0.]\n",
      " [0.]\n",
      " [0.]\n",
      " [0.]\n",
      " [0.]\n",
      " [0.]\n",
      " [0.]\n",
      " [0.]\n",
      " [0.]\n",
      " [0.]\n",
      " [1.]\n",
      " [1.]\n",
      " [1.]\n",
      " [1.]\n",
      " [1.]\n",
      " [1.]\n",
      " [1.]\n",
      " [1.]\n",
      " [1.]\n",
      " [1.]\n",
      " [1.]\n",
      " [1.]\n",
      " [1.]\n",
      " [1.]\n",
      " [1.]\n",
      " [1.]\n",
      " [1.]\n",
      " [1.]\n",
      " [1.]\n",
      " [1.]\n",
      " [1.]\n",
      " [1.]\n",
      " [1.]\n",
      " [1.]\n",
      " [1.]\n",
      " [1.]\n",
      " [1.]\n",
      " [1.]\n",
      " [1.]\n",
      " [1.]\n",
      " [2.]\n",
      " [2.]\n",
      " [2.]\n",
      " [2.]\n",
      " [2.]\n",
      " [2.]\n",
      " [2.]\n",
      " [2.]\n",
      " [2.]\n",
      " [2.]\n",
      " [2.]\n",
      " [2.]\n",
      " [2.]\n",
      " [2.]\n",
      " [2.]\n",
      " [2.]\n",
      " [2.]\n",
      " [2.]\n",
      " [2.]\n",
      " [2.]\n",
      " [2.]\n",
      " [2.]\n",
      " [2.]\n",
      " [2.]\n",
      " [2.]\n",
      " [2.]\n",
      " [2.]\n",
      " [2.]\n",
      " [2.]\n",
      " [2.]]\n"
     ]
    }
   ],
   "source": [
    "print(\"Dados convertidos:\")\n",
    "print(conversão)"
   ]
  },
  {
   "cell_type": "code",
   "execution_count": 6,
   "id": "0f616439",
   "metadata": {},
   "outputs": [
    {
     "name": "stdout",
     "output_type": "stream",
     "text": [
      "Dados deconvertidos:\n",
      "[['rest']\n",
      " ['rest']\n",
      " ['rest']\n",
      " ['rest']\n",
      " ['rest']\n",
      " ['rest']\n",
      " ['rest']\n",
      " ['rest']\n",
      " ['rest']\n",
      " ['rest']\n",
      " ['rest']\n",
      " ['rest']\n",
      " ['rest']\n",
      " ['rest']\n",
      " ['rest']\n",
      " ['rest']\n",
      " ['rest']\n",
      " ['rest']\n",
      " ['rest']\n",
      " ['rest']\n",
      " ['rest']\n",
      " ['rest']\n",
      " ['rest']\n",
      " ['rest']\n",
      " ['rest']\n",
      " ['rest']\n",
      " ['rest']\n",
      " ['rest']\n",
      " ['rest']\n",
      " ['rest']\n",
      " ['walking']\n",
      " ['walking']\n",
      " ['walking']\n",
      " ['walking']\n",
      " ['walking']\n",
      " ['walking']\n",
      " ['walking']\n",
      " ['walking']\n",
      " ['walking']\n",
      " ['walking']\n",
      " ['walking']\n",
      " ['walking']\n",
      " ['walking']\n",
      " ['walking']\n",
      " ['walking']\n",
      " ['walking']\n",
      " ['walking']\n",
      " ['walking']\n",
      " ['walking']\n",
      " ['walking']\n",
      " ['walking']\n",
      " ['walking']\n",
      " ['walking']\n",
      " ['walking']\n",
      " ['walking']\n",
      " ['walking']\n",
      " ['walking']\n",
      " ['walking']\n",
      " ['walking']\n",
      " ['walking']\n",
      " ['running']\n",
      " ['running']\n",
      " ['running']\n",
      " ['running']\n",
      " ['running']\n",
      " ['running']\n",
      " ['running']\n",
      " ['running']\n",
      " ['running']\n",
      " ['running']\n",
      " ['running']\n",
      " ['running']\n",
      " ['running']\n",
      " ['running']\n",
      " ['running']\n",
      " ['running']\n",
      " ['running']\n",
      " ['running']\n",
      " ['running']\n",
      " ['running']\n",
      " ['running']\n",
      " ['running']\n",
      " ['running']\n",
      " ['running']\n",
      " ['running']\n",
      " ['running']\n",
      " ['running']\n",
      " ['running']\n",
      " ['running']\n",
      " ['running']]\n"
     ]
    }
   ],
   "source": [
    "desconversão=encoder.inverse_transform(conversão)\n",
    "print(\"Dados deconvertidos:\")\n",
    "print(desconversão)"
   ]
  },
  {
   "cell_type": "code",
   "execution_count": 7,
   "id": "3a6fdd8d",
   "metadata": {},
   "outputs": [
    {
     "name": "stdout",
     "output_type": "stream",
     "text": [
      "{'rest': 30, 'walking': 30, 'running': 30}\n"
     ]
    }
   ],
   "source": [
    "tipo={\"rest\":0,\n",
    "\"walking\":0,\n",
    "\"running\":0}\n",
    "for i in conversão:\n",
    "    if i==[0]:\n",
    "        tipo[\"rest\"]+=1\n",
    "    if i==[1]:\n",
    "        tipo[\"walking\"]+=1\n",
    "    if i==[2]:\n",
    "        tipo[\"running\"]+=1\n",
    "print(tipo)"
   ]
  },
  {
   "cell_type": "code",
   "execution_count": 8,
   "id": "3d98477d",
   "metadata": {},
   "outputs": [
    {
     "data": {
      "image/png": "[encoded data removed]",
      "text/plain": [
       "<Figure size 640x480 with 1 Axes>"
      ]
     },
     "metadata": {},
     "output_type": "display_data"
    }
   ],
   "source": [
    "eixo_y=tipo.keys()\n",
    "eixo_x=tipo.values()\n",
    "plt.pie(eixo_x,labels=eixo_y, colors = [\"gold\",\"blue\",\"chocolate\"], autopct = \"%1.1f%%\")\n",
    "plt.title(\"Tipos de exercício\")\n",
    "plt.show()"
   ]
  },
  {
   "cell_type": "code",
   "execution_count": 9,
   "id": "08fcb6b6",
   "metadata": {},
   "outputs": [
    {
     "name": "stdout",
     "output_type": "stream",
     "text": [
      "Média: 1.0\n",
      "Desvio Padrão: 0.816496580927726\n"
     ]
    }
   ],
   "source": [
    "#conversão dos dados para uma lista a fim de calcular algumas estatísticas descritivas\n",
    "lista=[]\n",
    "for i in conversão:\n",
    "    lista+=list(i)\n",
    "media=st.mean(lista)\n",
    "desvio=st.pstdev(lista)\n",
    "print('Média:',media)\n",
    "print('Desvio Padrão:',desvio)"
   ]
  },
  {
   "cell_type": "markdown",
   "id": "47e2c23e",
   "metadata": {},
   "source": [
    "<font color=darkred>Conclusão da missão 4<br>\n",
    "<font color=black> Assim, é possivel concluir que, neste dataset, há a mesma quantidade de exercícios de cada tipo, e que a conversão para codificadres ordinais é simples para momentos como este onde há apenas três opções de exercício, além de ser muito útil para analisar estatísticas descritivas observadas apenas em dados numéricos como a média e o desvio padrão."
   ]
  },
  {
   "cell_type": "markdown",
   "id": "a0446904",
   "metadata": {},
   "source": [
    "### <font color=darkred>Referências\n",
    " \n",
    "CASSAR, DR. ATP-203 1.1 Tratamento de dados. Microsoft Teams, T03-ATP-203 - Aprendizado de Máquina, Material de Aula.\n",
    " \n",
    "CASSAR, DR. ATP-203 3.0 Modelo linear e baseline. Microsoft Teams, T03-ATP-203 - Aprendizado de Máquina, Material de Aula.\n",
    "tem menu de contexto\n",
    "\n",
    "WASKOM, M. seaborn-data: Data repository for seaborn examples. [s.l: s.n.].\n"
   ]
  }
 ],
 "metadata": {
  "kernel_info": {
   "name": "python"
  },
  "kernelspec": {
   "display_name": "ilumpy",
   "language": "python",
   "name": "ilumpy"
  },
  "language_info": {
   "codemirror_mode": {
    "name": "ipython",
    "version": 3
   },
   "file_extension": ".py",
   "mimetype": "text/x-python",
   "name": "python",
   "nbconvert_exporter": "python",
   "pygments_lexer": "ipython3",
   "version": "3.11.6"
  },
  "nteract": {
   "version": "nteract-front-end@1.0.0"
  }
 },
 "nbformat": 4,
 "nbformat_minor": 5
}
