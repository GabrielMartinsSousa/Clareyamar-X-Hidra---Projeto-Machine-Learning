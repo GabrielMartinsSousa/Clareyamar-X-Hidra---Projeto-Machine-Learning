{
 "cells": [
  {
   "cell_type": "markdown",
   "id": "ae76c849",
   "metadata": {},
   "source": [
    "# <font color=darkred><center>CLAREYAMAR <br>\n",
    "### <font color=gold><center>Clara Lelis, Yasmin Shimizu, Gabriel Martins<br>\n",
    " <font color=darkred><center>*Inluminans Ignotus*☀️🌊\n",
    " \n",
    "<font color=black><center>Divisão responsável pela segurança das águas territoriais e regiões portuárias do reino de Lumi, iluminando a escuridão dos mares e as profundezas do oceano.\n",
    "    \n",
    "### <font color=blue><center> Quests 2\n",
    "<font color=black><center> Em sua saga para conhecer melhor o Reino de Lumi, a divisão Clareyamar decide desbravar Praça da Fonte para analisar as águas consumidas pela população. Chegando ao seu destino, encontram um novo mural de quests e resolvem embarcar mais uma vez numa aventura em busca de ajudar os cidadãos nescessitados.\n",
    "    \n",
    "##### <font color=darkred><center> Missão 2: Não perca a classe!\n",
    "<div class=\"alert alert-warning\">\n",
    "<center> \"Um algoritmo regressor k -NN foi implementado na sala de aula. Você tem duas tarefas: a primeira é alterar o código feito em sala para transformar o regressor k -NN em um classificador k -NN; a segunda é alterar a métrica de distância de distância Euclidiana para distância Manhattan. Após as alterações, teste seu classificador para prever a espécie de pinguim do dataset de pinguins.\"\n",
    "</div>"
   ]
  },
  {
   "cell_type": "markdown",
   "id": "6821a20f",
   "metadata": {},
   "source": [
    "<font color=darkred><center> Introdução à missão 2\n",
    "    \n",
    "<font color=black><center> O Cavaleiro Luminoso, dono da Taverna do Sol, precisa de ajuda! Por ser um grande fã de pinguins, ele se voluntariou para cuidar destes bichinhos nas férias e um dos trabalhos que ele terá que realizar é a classificação por espécies. Mas, infelizmente, ele não possui conhecimento suficiente para fazer essa classificação sozinho. Tendo isso em vista, a divisão Clareyamar decidiu contribuir com o gentil cavaleiro criando um código que prevê a espécie dos pinguins das geleiras de Lumi utilizando o modelo classificador KNN.\n",
    "    \n",
    "    \n",
    "    \n",
    "* <font color=black> Bibliotecas utilizadas:"
   ]
  },
  {
   "cell_type": "code",
   "execution_count": 1,
   "id": "58b83cc9",
   "metadata": {},
   "outputs": [],
   "source": [
    "import numpy as np\n",
    "import statistics as st\n",
    "import seaborn as sb"
   ]
  },
  {
   "cell_type": "markdown",
   "id": "511188e5",
   "metadata": {},
   "source": [
    "### <font color=blue> <center> Calculando as distâncias\n",
    " <font color=black><center> Para realizar essa tarefa nós devemos calcular as distâncias entre os pinguins com dados conhecidos, para tal utilizaremos a distância Manhattan, que consiste na soma das distâncias absolutas entre as coordenadas dos pontos em cada dimensão. A fórmula da distância Manhattan é:\n",
    "$$ d=  \\sum_{i=0}^{n-1} \\mid x_i - y_i \\mid$$\n",
    " <font color=black><center> Onde n é o número de dimenssões e o X e o Y são os pontos em que a distância está sendo calculada"
   ]
  },
  {
   "cell_type": "code",
   "execution_count": 2,
   "id": "c8f36b30",
   "metadata": {},
   "outputs": [],
   "source": [
    "def distancia_manhattan(co1, co2):\n",
    "    soma=0\n",
    "    for xi,yi in zip(co1, co2):\n",
    "        soma+=abs(xi-yi) \n",
    "    distancia=soma\n",
    "    return distancia"
   ]
  },
  {
   "cell_type": "markdown",
   "id": "1d2d99c8",
   "metadata": {},
   "source": [
    "### <font color=blue> <center> Definindo parâmetros\n",
    " <font color=black><center> A seguir são definidos os parâmetros que serão utilizados para criar o modelo, o target, que é aquilo que se deseja prever, e os atributos, que são as características que serão analisadas pelo algoritmo a fim de buscar padrões utilizados no processo de prever um resultado. O dataset utilizado será o penguins da biblioteca seaborn."
   ]
  },
  {
   "cell_type": "code",
   "execution_count": 3,
   "id": "d6dc03ff",
   "metadata": {},
   "outputs": [],
   "source": [
    "dataset=\"penguins\"\n",
    "atributos=[\"bill_length_mm\", \"bill_depth_mm\", \"flipper_length_mm\",\"body_mass_g\"]\n",
    "target=[\"species\"]\n",
    "\n",
    "df=sb.load_dataset(dataset)\n",
    "df=df.dropna()  \n",
    "\n",
    "ATR=df.reindex(atributos, axis=1)\n",
    "TRG=df.reindex(target, axis=1)\n",
    "\n",
    "ATR=ATR.values\n",
    "TRG=TRG.values.ravel() "
   ]
  },
  {
   "cell_type": "code",
   "execution_count": 4,
   "id": "58455c1a",
   "metadata": {},
   "outputs": [
    {
     "data": {
      "text/html": [
       "<div>\n",
       "<style scoped>\n",
       "    .dataframe tbody tr th:only-of-type {\n",
       "        vertical-align: middle;\n",
       "    }\n",
       "\n",
       "    .dataframe tbody tr th {\n",
       "        vertical-align: top;\n",
       "    }\n",
       "\n",
       "    .dataframe thead th {\n",
       "        text-align: right;\n",
       "    }\n",
       "</style>\n",
       "<table border=\"1\" class=\"dataframe\">\n",
       "  <thead>\n",
       "    <tr style=\"text-align: right;\">\n",
       "      <th></th>\n",
       "      <th>species</th>\n",
       "      <th>island</th>\n",
       "      <th>bill_length_mm</th>\n",
       "      <th>bill_depth_mm</th>\n",
       "      <th>flipper_length_mm</th>\n",
       "      <th>body_mass_g</th>\n",
       "      <th>sex</th>\n",
       "    </tr>\n",
       "  </thead>\n",
       "  <tbody>\n",
       "    <tr>\n",
       "      <th>0</th>\n",
       "      <td>Adelie</td>\n",
       "      <td>Torgersen</td>\n",
       "      <td>39.1</td>\n",
       "      <td>18.7</td>\n",
       "      <td>181.0</td>\n",
       "      <td>3750.0</td>\n",
       "      <td>Male</td>\n",
       "    </tr>\n",
       "    <tr>\n",
       "      <th>1</th>\n",
       "      <td>Adelie</td>\n",
       "      <td>Torgersen</td>\n",
       "      <td>39.5</td>\n",
       "      <td>17.4</td>\n",
       "      <td>186.0</td>\n",
       "      <td>3800.0</td>\n",
       "      <td>Female</td>\n",
       "    </tr>\n",
       "    <tr>\n",
       "      <th>2</th>\n",
       "      <td>Adelie</td>\n",
       "      <td>Torgersen</td>\n",
       "      <td>40.3</td>\n",
       "      <td>18.0</td>\n",
       "      <td>195.0</td>\n",
       "      <td>3250.0</td>\n",
       "      <td>Female</td>\n",
       "    </tr>\n",
       "  </tbody>\n",
       "</table>\n",
       "</div>"
      ],
      "text/plain": [
       "  species     island  bill_length_mm  bill_depth_mm  flipper_length_mm  \\\n",
       "0  Adelie  Torgersen            39.1           18.7              181.0   \n",
       "1  Adelie  Torgersen            39.5           17.4              186.0   \n",
       "2  Adelie  Torgersen            40.3           18.0              195.0   \n",
       "\n",
       "   body_mass_g     sex  \n",
       "0       3750.0    Male  \n",
       "1       3800.0  Female  \n",
       "2       3250.0  Female  "
      ]
     },
     "execution_count": 4,
     "metadata": {},
     "output_type": "execute_result"
    }
   ],
   "source": [
    "df.head(3)"
   ]
  },
  {
   "cell_type": "markdown",
   "id": "d8d538ae",
   "metadata": {},
   "source": [
    "### <font color=blue><center> Treinando modelo\n",
    "<font color=black><center> O próximo passo é treinar um modelo com base nos parâmetros anteriormente definidos. O modelo definido é um dicionário que tem como chaves \"atributos\", \"target\" e \"num_vizinhos\". "
   ]
  },
  {
   "cell_type": "code",
   "execution_count": 5,
   "id": "ed7fe3f5",
   "metadata": {},
   "outputs": [],
   "source": [
    "def treinar_modelo(modelo, atributos, target, num_vizinhos):\n",
    "    modelo[\"atributos\"]=atributos\n",
    "    modelo[\"target\"]=target\n",
    "    modelo[\"num_vizinhos\"]=num_vizinhos\n"
   ]
  },
  {
   "cell_type": "markdown",
   "id": "eeef2a35",
   "metadata": {},
   "source": [
    "### <font color=blue><center> Função que realiza previsão\n",
    "    \n",
    "<font color=black><center> Para realizar a previsão criamos a função a seguir que recebe o modelo e dados de um pinguim hipotético. Ela observa as distâncias entre os pontos referentes aos dados do pinguim fornecido e todos os contidos no dataset, após isso ela armazena os dados mais próximos e seus respectivos índices no dicionário. Os targets são consultados pelo índice e devolvidos como lista de strings, então, é feita a moda desta lista, que será a nossa previsão.  "
   ]
  },
  {
   "cell_type": "code",
   "execution_count": 21,
   "id": "b559934c",
   "metadata": {},
   "outputs": [],
   "source": [
    "def realizar_previsão(modelo, pinguim):\n",
    "    distancias=[]\n",
    "    for p in modelo[\"atributos\"]:\n",
    "        distancia_calculada=distancia_manhattan(p,pinguim)\n",
    "        distancias.append(distancia_calculada) \n",
    "    indices=np.argsort(distancias)[:modelo[\"num_vizinhos\"]]\n",
    "    targets=modelo[\"target\"][indices]\n",
    "    especie_prevista=st.mode(targets)\n",
    "    return especie_prevista"
   ]
  },
  {
   "cell_type": "markdown",
   "id": "68b9be88",
   "metadata": {},
   "source": [
    "### <font color=darkred><center> Testando o modelo\n",
    "<font color=black><center> O modelo será testado a seguir com os pinguins hipotéticos 1, 2 e 3. Serão utilizadas as funções desenvolvidas acima para tal."
   ]
  },
  {
   "cell_type": "code",
   "execution_count": 18,
   "id": "711c4962",
   "metadata": {},
   "outputs": [],
   "source": [
    "modelo = {}\n",
    "treinar_modelo(modelo, ATR, TRG,num_vizinhos=5)"
   ]
  },
  {
   "cell_type": "code",
   "execution_count": 27,
   "id": "5cee90d5",
   "metadata": {},
   "outputs": [],
   "source": [
    "pinguim_hipotetico_01=[40,17,180,3060]\n",
    "pinguim_hipotetico_02=[47, 19, 199,3700]\n",
    "pinguim_hipotetico_03=[50,16,200,5300]"
   ]
  },
  {
   "cell_type": "code",
   "execution_count": 28,
   "id": "713a1487",
   "metadata": {},
   "outputs": [],
   "source": [
    "T01=realizar_previsão(modelo, pinguim_hipotetico_01)\n",
    "T02=realizar_previsão(modelo, pinguim_hipotetico_02)\n",
    "T03=realizar_previsão(modelo, pinguim_hipotetico_03)"
   ]
  },
  {
   "cell_type": "code",
   "execution_count": 29,
   "id": "ccc10f0c",
   "metadata": {},
   "outputs": [
    {
     "name": "stdout",
     "output_type": "stream",
     "text": [
      "A espécie do pinguim hipotético 1 é: Adelie\n",
      "A espécie do pinguim hipotético 2 é: Chinstrap\n",
      "A espécie do pinguim hipotético 3 é: Gentoo\n"
     ]
    }
   ],
   "source": [
    "print(\"A espécie do pinguim hipotético 1 é:\",T01)\n",
    "print(\"A espécie do pinguim hipotético 2 é:\",T02)\n",
    "print(\"A espécie do pinguim hipotético 3 é:\",T03)"
   ]
  },
  {
   "cell_type": "markdown",
   "id": "8a57dddb",
   "metadata": {},
   "source": [
    "### <font color=brown><center>Discussões\n",
    "    \n",
    "    \n",
    "    \n",
    "<font color=black><center> Os algoritmos KNN(K-vizinhos mais próximos) busca prever os targets do conjunto de dados de teste observando os rótulos de seus vizinhos mais próximos no conjunto de dados de treinamento. Esse modelo de aprendizado de máquina pode ser utilizado para regressão e para classificação. Um dos hiperparâmetros mais importantes para este modelo é o número de vizinhos a ser levado em consideração, pois um valor muito pequeno pode causar overfiting, um ajuste perfeito aos dados de treino mas que falha na prática já que o modelo fica muito sensível a qualquer alteração e não funciona bem para dados não vistos, e um valor muito grande pode gerar underfiting, onde os dados são tão dispersos que o modelo falha em observar padrões.\n",
    "    \n",
    "<font color=black><center>O calculo da distância também é de extrema importância para esse modelo, pois todo o funcionamento dele depende deste calculo. Neste trabalho foi utilizada a distância Manhattan que é preferível à distância euclidiana em casos onde são levadas em consideração muitas dimenssões.\n",
    "\n"
   ]
  },
  {
   "cell_type": "markdown",
   "id": "e269e3d2",
   "metadata": {},
   "source": [
    "### <font color=darkred><center>Conclusão\n",
    "\n",
    "<font color=black><center>No algoritmo criado, é possível observar com clareza o funcionamento do modelo classificador KNN, sendo previstas as espécies dos pinguins de maneira stisfatória. Além disso, observa-se a eficiência do modelo que, apesar de simples, se mostra bastante útil nesse tipo de situação. Ainda se pode compreender as diferenças entre a distância Manhattan e a Euclidiana e em quais casos elas melhor se aplicam.    "
   ]
  },
  {
   "cell_type": "markdown",
   "id": "ee6ffd5e",
   "metadata": {},
   "source": [
    "### <font color=gold>Referências\n",
    "<font color=blue>VAZ, A. L. KNN —K-Nearest Neighbor, o que é? - Data Hackers - Medium. Disponível em: <https://medium.com/data-hackers/knn-k-nearest-neighbor-o-que-%C3%A9-aeebe0f833eb>. Acesso em: 23 set. 2024.\n",
    "    \n",
    "<font color=blue>Disponível em: <https://www.datacamp.com/pt/tutorial/k-nearest-neighbors-knn-classification-with-r-tutorial>. Acesso em: 23 set. 2024.\n",
    "\n",
    "<font color=blue>CASSAR,D.R. ATP-203 2.1 - Aprendizado de máquina, k-NN e métricas. Disponível em:Arquivos do teams da disciplina de Machine Learning\n"
   ]
  }
 ],
 "metadata": {
  "kernel_info": {
   "name": "python"
  },
  "kernelspec": {
   "display_name": "ilumpy",
   "language": "python",
   "name": "ilumpy"
  },
  "language_info": {
   "codemirror_mode": {
    "name": "ipython",
    "version": 3
   },
   "file_extension": ".py",
   "mimetype": "text/x-python",
   "name": "python",
   "nbconvert_exporter": "python",
   "pygments_lexer": "ipython3",
   "version": "3.11.6"
  },
  "nteract": {
   "version": "nteract-front-end@1.0.0"
  }
 },
 "nbformat": 4,
 "nbformat_minor": 5
}
