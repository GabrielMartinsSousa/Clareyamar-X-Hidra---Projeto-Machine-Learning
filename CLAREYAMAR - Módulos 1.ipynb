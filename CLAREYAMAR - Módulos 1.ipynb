{
 "cells": [
  {
   "cell_type": "markdown",
   "id": "9da1c883",
   "metadata": {},
   "source": [
    "# <font color=darkred><center>CLAREYAMAR <br>\n",
    "\n",
    "### <font color=gold><center>Clara Lelis, Yasmin Shimizu, Gabriel Martins<br>\n",
    "<font color=darkred><center>*Inluminans Ignotus*☀️🌊\n",
    "<font color=black><center>Divisão responsável pela segurança das águas territoriais e regiões portuárias do reino de Lumi, iluminando a escuridão dos mares e as profundezas do oceano.\n",
    "\n",
    "### <font color=blue><center> Quests 2\n",
    "<font color=black><center> Em sua saga para conhecer melhor o Reino de Lumi, a divisão Clareyamar decide desbravar Praça da Fonte para analisar as águas consumidas pela população. Chegando ao seu destino, encontram um novo mural de quests e resolvem embarcar mais uma vez numa aventura em busca de ajudar os cidadãos nescessitados.\n",
    "    \n",
    "##### <font color=darkred><center> Missão 1: Iterações... Iterações em todos os lugares\n",
    "<div class=\"alert alert-warning\">\n",
    "<center> \"Faça um notebook didático mostrando como funciona o módulo itertools do Python (https://docs.python.org/3/library/itertools.html). Se estiver em dúvida sobre o que estudar sobre este módulo, dê uma olhada nos iteradores de análise combinatória (product, permutations, combinations e combinations_with_replacement)\"\n",
    "</div>\n",
    " \n",
    "<font color=darkred><center>Introdução à missão 1\n",
    "    \n",
    "<font color=black><center> Na região da Cordilheira Flamejante, a rainha do fogo, Ifa, era muito cobrada a resolver os problemas dos habitantes, porém, seus métodos arcaicos não davam mais conta de tantas situações complicadas e pessoas impacientes. Ela possui um computador movido a combustão, e ouviu falar que na região central de Lumi o governo regional usava um tal de módulo **Itertools** do Python para gerenciar as requisições da população, ela decidiu então deixar uma quest no mural da Praça da Fonte da região costeira pedindo ajuda para aprender a usar essa ferramenta. "
   ]
  },
  {
   "cell_type": "markdown",
   "id": "28d6fe53",
   "metadata": {},
   "source": [
    "# <font color=gold><center>Módulo Itertools do Python<br>"
   ]
  },
  {
   "cell_type": "markdown",
   "id": "1f948617",
   "metadata": {},
   "source": [
    "Alguns dos itens mais úteis no Python são os iteráveis, conjuntos de dados que possuem diversas funções e que podem ser operados individualmente dentro de laços para obter valores indivíduais ou outros iteráveis. Eles podem ser listas, tuplas, conjuntos, dicionários, dataframes, arrays, entre outros objetos e são manipulados usando estruturas como *for in* ou *while*. \n",
    "\n",
    "Existem métodos nativos do Python para trabalhar com esses objetos, porém, uma extensão muito útil para isso é o módulo **Itertools**, que oferece uma gama de ferramentas rápidas e eficientes que auxiliam na tarefa com eles. Esse módulo pode ajudar em diveros problemas de combinatória, otimização e análise de dados. Ele possui diversas funções que realizam combinações, permutações, e até mesmo criam iteradores. \n",
    "\n",
    "Nesse caderno, serão explorados algumas de suas funções a fim de entender o seu funcionamento e as utilidades delas, após todo processo, tiraremos algumas conclusões. Isso será feito para que o grupo Clareyamar obtenha métodos para estudar as águas do Reino de Lumi e atingir seu objetivo maior, a Legião da Alvorada."
   ]
  },
  {
   "cell_type": "markdown",
   "id": "8d8aaf81",
   "metadata": {},
   "source": [
    "### <font color=blue>Função Count"
   ]
  },
  {
   "cell_type": "markdown",
   "id": "fdf91c7d",
   "metadata": {},
   "source": [
    "A função count pode ser usada para gerar uma sequência de iteráveis que sigam uma ordem e variem segundo um padrão. Normalmente, ela gera uma sequência infinita, o que é inviável para se armazenar na memória limitada do computador, para solucionar isso, é necessário impor um limite a execução da função, o que será feito abaixo. A função tem a seguinte estrutura:"
   ]
  },
  {
   "cell_type": "code",
   "execution_count": 45,
   "id": "01edb628",
   "metadata": {},
   "outputs": [],
   "source": [
    "import itertools as it"
   ]
  },
  {
   "cell_type": "code",
   "execution_count": 46,
   "id": "4b1f5761",
   "metadata": {},
   "outputs": [
    {
     "name": "stdout",
     "output_type": "stream",
     "text": [
      "[0, 3, 6, 9, 12, 15, 18, 21, 24]\n"
     ]
    }
   ],
   "source": [
    "função = it.count(start=0, step=3)\n",
    "# A função it.count() recebe um valor de início \"start\" e um valor de variação dos elementos \"step\"\n",
    "\n",
    "exemplo = list(next(função) for _ in range(9))\n",
    "# Para limitar a apresentação dos valores, a função foi rodada dentro de um loop for em um range definido\n",
    "# O método next está sendo usado para atualizar o valor iterado da função dentro do loop for\n",
    "\n",
    "print(exemplo)"
   ]
  },
  {
   "cell_type": "markdown",
   "id": "9fccf194",
   "metadata": {},
   "source": [
    "Essa função pode ser usada por exemplo como um contador sem limitações, como foi usada abaixo para encontrar um número múltiplo de 7 em uma sequência de números:"
   ]
  },
  {
   "cell_type": "code",
   "execution_count": 47,
   "id": "9b631e94",
   "metadata": {},
   "outputs": [
    {
     "name": "stdout",
     "output_type": "stream",
     "text": [
      "Múltiplo de 7 encontrado: 84 , após count(3) tentativas\n"
     ]
    }
   ],
   "source": [
    "import random as rd\n",
    "contador = it.count(start=1)\n",
    "for i in contador:\n",
    "    num = rd.randint(1, 100)\n",
    "    if num % 7 == 0:\n",
    "        print(\"Múltiplo de 7 encontrado:\",num,\", após\",contador,\"tentativas\")\n",
    "        break"
   ]
  },
  {
   "cell_type": "markdown",
   "id": "4564d752",
   "metadata": {},
   "source": [
    "### <font color=blue>Função Permutations"
   ]
  },
  {
   "cell_type": "markdown",
   "id": "ffe07f2c",
   "metadata": {},
   "source": [
    "A função permutations executa as permutações entre os elementos de um iterável, ela permuta um número específico de valores que é específicado no argumento da função. É importante resaltar que a ordem dos elementos em permutações importa, ou seja, (1,2) é diferente de (2,1). A estrutura da função está abaixo:"
   ]
  },
  {
   "cell_type": "code",
   "execution_count": 48,
   "id": "6740f8a3",
   "metadata": {},
   "outputs": [
    {
     "name": "stdout",
     "output_type": "stream",
     "text": [
      "[(1, 2, 3), (1, 2, 4), (1, 2, 5), (1, 3, 2), (1, 3, 4), (1, 3, 5), (1, 4, 2), (1, 4, 3), (1, 4, 5), (1, 5, 2), (1, 5, 3), (1, 5, 4), (2, 1, 3), (2, 1, 4), (2, 1, 5), (2, 3, 1), (2, 3, 4), (2, 3, 5), (2, 4, 1), (2, 4, 3), (2, 4, 5), (2, 5, 1), (2, 5, 3), (2, 5, 4), (3, 1, 2), (3, 1, 4), (3, 1, 5), (3, 2, 1), (3, 2, 4), (3, 2, 5), (3, 4, 1), (3, 4, 2), (3, 4, 5), (3, 5, 1), (3, 5, 2), (3, 5, 4), (4, 1, 2), (4, 1, 3), (4, 1, 5), (4, 2, 1), (4, 2, 3), (4, 2, 5), (4, 3, 1), (4, 3, 2), (4, 3, 5), (4, 5, 1), (4, 5, 2), (4, 5, 3), (5, 1, 2), (5, 1, 3), (5, 1, 4), (5, 2, 1), (5, 2, 3), (5, 2, 4), (5, 3, 1), (5, 3, 2), (5, 3, 4), (5, 4, 1), (5, 4, 2), (5, 4, 3)]\n"
     ]
    }
   ],
   "source": [
    "lista = [1,2,3,4,5]\n",
    "resultado = list(it.permutations(lista, 3))\n",
    "# O primeiro argumento de permutations é o iterável que se quer permutar\n",
    "# O segundo argumento é a quantidade de elementos da permutação\n",
    "\n",
    "print(resultado)"
   ]
  },
  {
   "cell_type": "markdown",
   "id": "f36912f6",
   "metadata": {},
   "source": [
    "A função permutations pode ter sua utilidade na criação de senhas, na qual um iterável contém todos os elementos que podem ser usados em uma senha, portanto a função gera todas as senhas possíveis com aqueles elementos."
   ]
  },
  {
   "cell_type": "code",
   "execution_count": 49,
   "id": "b50b64c2",
   "metadata": {},
   "outputs": [
    {
     "name": "stdout",
     "output_type": "stream",
     "text": [
      "[('a', 'b', '1', '2'), ('a', 'b', '2', '1'), ('a', '1', 'b', '2'), ('a', '1', '2', 'b'), ('a', '2', 'b', '1'), ('a', '2', '1', 'b'), ('b', 'a', '1', '2'), ('b', 'a', '2', '1'), ('b', '1', 'a', '2'), ('b', '1', '2', 'a'), ('b', '2', 'a', '1'), ('b', '2', '1', 'a'), ('1', 'a', 'b', '2'), ('1', 'a', '2', 'b'), ('1', 'b', 'a', '2'), ('1', 'b', '2', 'a'), ('1', '2', 'a', 'b'), ('1', '2', 'b', 'a'), ('2', 'a', 'b', '1'), ('2', 'a', '1', 'b'), ('2', 'b', 'a', '1'), ('2', 'b', '1', 'a'), ('2', '1', 'a', 'b'), ('2', '1', 'b', 'a')]\n"
     ]
    }
   ],
   "source": [
    "elementos = ('a', 'b', '1','2')\n",
    "senhas = list(it.permutations(elementos, 4))\n",
    "print(senhas)"
   ]
  },
  {
   "cell_type": "markdown",
   "id": "15aa1614",
   "metadata": {},
   "source": [
    "### <font color=blue>Função Combinations"
   ]
  },
  {
   "cell_type": "markdown",
   "id": "c3aa03c9",
   "metadata": {},
   "source": [
    "A função **combinations** realiza a combinação entre elementos, ou seja, de um conjunto maior, ocorre a partição de um subconjunto, no qual a ordem não importa, ou seja, (1,2) é a mesma coisa que (2,1). A estrutura da função se encontra abaixo:"
   ]
  },
  {
   "cell_type": "code",
   "execution_count": 50,
   "id": "67af6923",
   "metadata": {},
   "outputs": [
    {
     "name": "stdout",
     "output_type": "stream",
     "text": [
      "[(1, 2, 3), (1, 2, 4), (1, 2, 5), (1, 3, 4), (1, 3, 5), (1, 4, 5), (2, 3, 4), (2, 3, 5), (2, 4, 5), (3, 4, 5)]\n"
     ]
    }
   ],
   "source": [
    "elementos2 = [1,2,3,4,5]\n",
    "exemplo = list(it.combinations(elementos2, 3))\n",
    "# Assim como a função permutations, o primeiro argumento da função é o iterável no qual se quer retirar as combinações\n",
    "# O segundo argumento é a quantidade de elementos da combinação\n",
    "\n",
    "print(exemplo)"
   ]
  },
  {
   "cell_type": "markdown",
   "id": "a3ced9a6",
   "metadata": {},
   "source": [
    "Uma das aplicações da função **combinations** é o sorteio de um subgrupo dentro de um grupo maior. Na sala de aula da turma 24 da Ilum, por exemplo, se formarmos um grupo de 3 pessoas e eles fossem apenas Nortistas, teremos os possíveis grupos abaixo:"
   ]
  },
  {
   "cell_type": "code",
   "execution_count": 51,
   "id": "c6e7b2cd",
   "metadata": {},
   "outputs": [
    {
     "data": {
      "text/plain": [
       "[('Ana Luiza', 'Gabriel M', 'Weigson'),\n",
       " ('Ana Luiza', 'Gabriel M', 'Izabel'),\n",
       " ('Ana Luiza', 'Gabriel M', 'Andressa'),\n",
       " ('Ana Luiza', 'Weigson', 'Izabel'),\n",
       " ('Ana Luiza', 'Weigson', 'Andressa'),\n",
       " ('Ana Luiza', 'Izabel', 'Andressa'),\n",
       " ('Gabriel M', 'Weigson', 'Izabel'),\n",
       " ('Gabriel M', 'Weigson', 'Andressa'),\n",
       " ('Gabriel M', 'Izabel', 'Andressa'),\n",
       " ('Weigson', 'Izabel', 'Andressa')]"
      ]
     },
     "execution_count": 51,
     "metadata": {},
     "output_type": "execute_result"
    }
   ],
   "source": [
    "nortistas = ['Ana Luiza', 'Gabriel M', 'Weigson', 'Izabel', 'Andressa']\n",
    "grupos = list(it.combinations(nortistas, 3))\n",
    "grupos"
   ]
  },
  {
   "cell_type": "markdown",
   "id": "527db2b9",
   "metadata": {},
   "source": [
    "### <font color=blue>Função Product"
   ]
  },
  {
   "cell_type": "markdown",
   "id": "c3c3fa69",
   "metadata": {},
   "source": [
    "A função **product** realiza o produto cartesiano entre 2 ou mais iteráveis, ou seja, realiza uma combinação entre grupos de elementos diferentes. Essa função precisa, portanto, de mais de um iterável. A função possui a estrutura abaixo:"
   ]
  },
  {
   "cell_type": "code",
   "execution_count": 52,
   "id": "154176c8",
   "metadata": {},
   "outputs": [
    {
     "data": {
      "text/plain": [
       "[('a', '1'),\n",
       " ('a', '2'),\n",
       " ('a', '3'),\n",
       " ('b', '1'),\n",
       " ('b', '2'),\n",
       " ('b', '3'),\n",
       " ('c', '1'),\n",
       " ('c', '2'),\n",
       " ('c', '3')]"
      ]
     },
     "execution_count": 52,
     "metadata": {},
     "output_type": "execute_result"
    }
   ],
   "source": [
    "tupla = ('a','b','c')\n",
    "lista2 = ['1','2','3']\n",
    "\n",
    "prod = list(it.product(tupla,lista2))\n",
    "# Os argumentos da função são os iteráveis que ela irá combinar, podendo ser mais de 2\n",
    "\n",
    "prod"
   ]
  },
  {
   "cell_type": "markdown",
   "id": "ce480670",
   "metadata": {},
   "source": [
    "Um dos exemplos práticos dessa função é a situação na qual você vai ao McDonalds do Shopping Dom Pedro e se depara com diversas combinações de combos, que vêm com hambúrgueres, acompanhamentos e bebidas. Para saber como gastar melhor o seu VR é importante que você saiba todas as combinações possíveis, portanto, enquanto você espera na fila, você pode usar o código abaixo para minimizar a chance de gastar mal o VR."
   ]
  },
  {
   "cell_type": "code",
   "execution_count": 53,
   "id": "c0aaede9",
   "metadata": {},
   "outputs": [
    {
     "data": {
      "text/plain": [
       "[('BigMac', 'McFritas', 'Fanta Guaraná'),\n",
       " ('BigMac', 'McFritas', 'Coca'),\n",
       " ('BigMac', 'McFritas', 'DelValle Uva'),\n",
       " ('BigMac', 'McNuggets', 'Fanta Guaraná'),\n",
       " ('BigMac', 'McNuggets', 'Coca'),\n",
       " ('BigMac', 'McNuggets', 'DelValle Uva'),\n",
       " ('Duplo Burger Bacon', 'McFritas', 'Fanta Guaraná'),\n",
       " ('Duplo Burger Bacon', 'McFritas', 'Coca'),\n",
       " ('Duplo Burger Bacon', 'McFritas', 'DelValle Uva'),\n",
       " ('Duplo Burger Bacon', 'McNuggets', 'Fanta Guaraná'),\n",
       " ('Duplo Burger Bacon', 'McNuggets', 'Coca'),\n",
       " ('Duplo Burger Bacon', 'McNuggets', 'DelValle Uva'),\n",
       " ('Mc Chicken', 'McFritas', 'Fanta Guaraná'),\n",
       " ('Mc Chicken', 'McFritas', 'Coca'),\n",
       " ('Mc Chicken', 'McFritas', 'DelValle Uva'),\n",
       " ('Mc Chicken', 'McNuggets', 'Fanta Guaraná'),\n",
       " ('Mc Chicken', 'McNuggets', 'Coca'),\n",
       " ('Mc Chicken', 'McNuggets', 'DelValle Uva')]"
      ]
     },
     "execution_count": 53,
     "metadata": {},
     "output_type": "execute_result"
    }
   ],
   "source": [
    "hamburgueres = ['BigMac','Duplo Burger Bacon','Mc Chicken']\n",
    "acompanhamentos = ['McFritas','McNuggets',]\n",
    "bebidas = ['Fanta Guaraná','Coca','DelValle Uva']\n",
    "\n",
    "# Gerando o produto cartesiano\n",
    "combos = list(it.product(hamburgueres, acompanhamentos, bebidas))\n",
    "combos\n"
   ]
  },
  {
   "cell_type": "markdown",
   "id": "e8803641",
   "metadata": {},
   "source": [
    "### <font color=blue>Função GroupBy"
   ]
  },
  {
   "cell_type": "markdown",
   "id": "09967ad6",
   "metadata": {},
   "source": [
    "A função **groupby** analisa um iterável que possui valores repetidos e agrupa esses valores em iteráveis separados por chave e valores, ou seja, ele mostra o valor que se repete e as vezes que ele repetiu. Para dados numéricos, é melhor se os dados estiverem ordenados. Está abaixo a estrutura da função:"
   ]
  },
  {
   "cell_type": "code",
   "execution_count": 54,
   "id": "27959cf2",
   "metadata": {},
   "outputs": [
    {
     "name": "stdout",
     "output_type": "stream",
     "text": [
      "1: [1, 1, 1, 1]\n",
      "2: [2, 2, 2]\n",
      "3: [3, 3, 3]\n"
     ]
    }
   ],
   "source": [
    "dados = [1, 1, 2, 2, 3, 1, 1, 3, 3, 2]\n",
    "sdados = sorted(dados)\n",
    "# Os dados foram ordenados para que a apresentação dos valores depois da execução da função seja contínua\n",
    "\n",
    "agrupado = it.groupby(sdados)\n",
    "# A função recebe como argumento o iterável para que ela separe os valores repetidos\n",
    "\n",
    "for chave, valores in agrupado:\n",
    "    print(f\"{chave}: {list(valores)}\")\n",
    "# Como a função gera um dicionário, para que ele seja corretamente printado, é necessário uma estrutura como a que está acima\n"
   ]
  },
  {
   "cell_type": "markdown",
   "id": "afbbec9e",
   "metadata": {},
   "source": [
    "Suponhamos que o apartamento 404 do Gabriel quer fazer compras e eles precisam saber o que tem de comida no armário e a quantidade do que tem, o morador Pedro Coelho sugeriu que eles fossem anotando em uma lista de Python cada coisa que encontrassem no armário mas acabaram não anotando a quantidade de vezes das coisas, uma vez que não são muito atentos. O problema deles pode ser resolvido pelo código abaixo: "
   ]
  },
  {
   "cell_type": "code",
   "execution_count": 55,
   "id": "abb862e7",
   "metadata": {},
   "outputs": [
    {
     "name": "stdout",
     "output_type": "stream",
     "text": [
      "biscoito: ['biscoito', 'biscoito', 'biscoito', 'biscoito']\n",
      "bolinho: ['bolinho', 'bolinho']\n",
      "farofa: ['farofa', 'farofa', 'farofa']\n",
      "leite: ['leite', 'leite']\n",
      "macarrão: ['macarrão', 'macarrão']\n",
      "nescau: ['nescau', 'nescau']\n",
      "pão: ['pão']\n",
      "salgadinho: ['salgadinho', 'salgadinho']\n",
      "trigo: ['trigo']\n"
     ]
    }
   ],
   "source": [
    "armario = ['biscoito','pão','macarrão','nescau','leite','nescau','farofa','trigo','farofa','biscoito',\n",
    "           'bolinho','salgadinho','bolinho','leite','salgadinho','biscoito',\n",
    "           'biscoito','macarrão','farofa']\n",
    "sarmario = sorted(armario)\n",
    "comidas = it.groupby(sarmario)\n",
    "for chave, valores in comidas:\n",
    "    print(f\"{chave}: {list(valores)}\")"
   ]
  },
  {
   "cell_type": "markdown",
   "id": "97549d79",
   "metadata": {},
   "source": [
    "## <font color=gold>Conclusão"
   ]
  },
  {
   "cell_type": "markdown",
   "id": "56650695",
   "metadata": {},
   "source": [
    "Após analisar o funcionamento e as aplicações práticas de algumas funções do módulo **Itertools** do Python, foi possível concluir que esta biblioteca é muito útil e eficiente para diversos problemas de combinatória, estatística, análise de dados, além de que foi possível explorar como trabalhar de maneira bastante produtiva com iteráveis de diversos tipos, como listas, tuplas e dicionários.\n",
    "\n",
    "O módulo ainda possui diversas outras funções como a *it.chain* que junta iteráveis, a *it.zip_longest* que é uma extensão da função zip para iteráveis de tamanhos diferentes, a *it.accumulate* que vai somando os elementos numéricos de um iterável ao longo dele, enfim, existe uma gama de ferramentas nessa biblioteca que podem ser usados à vontade."
   ]
  },
  {
   "cell_type": "markdown",
   "id": "b3bd622a",
   "metadata": {},
   "source": [
    "## <font color=gold>Referências"
   ]
  },
  {
   "cell_type": "markdown",
   "id": "3a716703",
   "metadata": {},
   "source": [
    "- Itertools in Python 3, By Example: https://realpython.com/python-itertools/\n",
    "- Documentação do Itertools: https://docs.python.org/3/library/itertools.html\n",
    "- Python Itertools: https://www.geeksforgeeks.org/python-itertools/\n",
    "\n",
    "Notebook produzido por Gabriel Martins, Maria Clara Macedo Lelis e Yasmin Barbosa Shimizu"
   ]
  }
 ],
 "metadata": {
  "kernel_info": {
   "name": "python"
  },
  "kernelspec": {
   "display_name": "ilumpy",
   "language": "python",
   "name": "ilumpy"
  },
  "language_info": {
   "codemirror_mode": {
    "name": "ipython",
    "version": 3
   },
   "file_extension": ".py",
   "mimetype": "text/x-python",
   "name": "python",
   "nbconvert_exporter": "python",
   "pygments_lexer": "ipython3",
   "version": "3.11.6"
  },
  "nteract": {
   "version": "nteract-front-end@1.0.0"
  }
 },
 "nbformat": 4,
 "nbformat_minor": 5
}
